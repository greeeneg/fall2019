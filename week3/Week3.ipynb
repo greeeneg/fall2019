{
 "cells": [
  {
   "cell_type": "markdown",
   "metadata": {
    "slideshow": {
     "slide_type": "slide"
    }
   },
   "source": [
    "# Week 3\n",
    "## Data retrieval, preprocessing, and normalization for ML\n"
   ]
  },
  {
   "cell_type": "markdown",
   "metadata": {
    "slideshow": {
     "slide_type": "slide"
    }
   },
   "source": [
    "## Basic Outline\n",
    "  \n",
    "* Where do data come from? Data retreival.\n",
    "* Ideal datasets and data types\n",
    "* Common wrangling needs and implementations"
   ]
  },
  {
   "cell_type": "markdown",
   "metadata": {
    "slideshow": {
     "slide_type": "slide"
    }
   },
   "source": [
    "## Where did you get your data?\n",
    "\n"
   ]
  },
  {
   "cell_type": "markdown",
   "metadata": {
    "slideshow": {
     "slide_type": "fragment"
    }
   },
   "source": [
    "* Generated in-house (stored as CSVs, TSVs, SQL, proprietary, etc)"
   ]
  },
  {
   "cell_type": "markdown",
   "metadata": {
    "slideshow": {
     "slide_type": "fragment"
    }
   },
   "source": [
    "* Collaborators"
   ]
  },
  {
   "cell_type": "markdown",
   "metadata": {
    "slideshow": {
     "slide_type": "fragment"
    }
   },
   "source": [
    "* Public sources"
   ]
  },
  {
   "cell_type": "markdown",
   "metadata": {
    "slideshow": {
     "slide_type": "slide"
    }
   },
   "source": [
    "## Scripting data retrieval improves reproducibility"
   ]
  },
  {
   "cell_type": "code",
   "execution_count": 10,
   "metadata": {},
   "outputs": [],
   "source": [
    "# you may need to:\n",
    "# !pip install requests"
   ]
  },
  {
   "cell_type": "code",
   "execution_count": 73,
   "metadata": {
    "slideshow": {
     "slide_type": "fragment"
    }
   },
   "outputs": [
    {
     "data": {
      "text/plain": [
       "('brca_protein_expression.tsv.gz', <http.client.HTTPMessage at 0x1a2470b7b8>)"
      ]
     },
     "execution_count": 73,
     "metadata": {},
     "output_type": "execute_result"
    }
   ],
   "source": [
    "# Downloading a data file from a remote repository\n",
    "import urllib\n",
    "\n",
    "URL = \"https://dcc.icgc.org/api/v1/download?fn=/release_18/Projects/BRCA-US/protein_expression.BRCA-US.tsv.gz\"\n",
    "FILENAME = \"brca_protein_expression.tsv.gz\"\n",
    "\n",
    "urllib.request.urlretrieve(URL, FILENAME)"
   ]
  },
  {
   "cell_type": "markdown",
   "metadata": {
    "slideshow": {
     "slide_type": "fragment"
    }
   },
   "source": [
    "* Scraping tools such as Mechanize and BeautifulSoup allow extraction of data from websites\n"
   ]
  },
  {
   "cell_type": "code",
   "execution_count": 74,
   "metadata": {},
   "outputs": [
    {
     "name": "stdout",
     "output_type": "stream",
     "text": [
      "TTCTTGACACTGATTGATCTGCCAAAAGGGGAAGAATGAGTCCAGCTAGAATCCAGGACTAACCAGCGGGTGAGCTTCAAGGAACAAAGGGCTTCCGCTGG\n"
     ]
    }
   ],
   "source": [
    "import requests\n",
    "# Retrieving data from a remote web service in JSON format that gets converted to a python structure:\n",
    "def get_genome_sequence_ensembl(chromosome, start, end):\n",
    "    \"\"\" API described here http://rest.ensembl.org/documentation/info/sequence_region\"\"\"\n",
    "    url = 'https://rest.ensembl.org/sequence/region/human/{0}:{1}..{2}:1?content-type=application/json'.format(\n",
    "        chromosome, start, end)\n",
    "    r = requests.get(url, headers={\"Content-Type\": \"application/json\"}, timeout=10.000)\n",
    "    if r.ok:\n",
    "        return r.json()['seq']\n",
    "print(get_genome_sequence_ensembl(7, 200000,200100))"
   ]
  },
  {
   "cell_type": "markdown",
   "metadata": {
    "slideshow": {
     "slide_type": "slide"
    }
   },
   "source": [
    "\n",
    "## Pandas covers most of the data retrieval needs"
   ]
  },
  {
   "cell_type": "code",
   "execution_count": 5,
   "metadata": {
    "slideshow": {
     "slide_type": "slide"
    }
   },
   "outputs": [
    {
     "name": "stderr",
     "output_type": "stream",
     "text": [
      "//anaconda3/lib/python3.7/site-packages/ipykernel_launcher.py:5: FutureWarning: read_table is deprecated, use read_csv instead.\n",
      "  \"\"\"\n"
     ]
    },
    {
     "data": {
      "text/html": [
       "<div>\n",
       "<style scoped>\n",
       "    .dataframe tbody tr th:only-of-type {\n",
       "        vertical-align: middle;\n",
       "    }\n",
       "\n",
       "    .dataframe tbody tr th {\n",
       "        vertical-align: top;\n",
       "    }\n",
       "\n",
       "    .dataframe thead th {\n",
       "        text-align: right;\n",
       "    }\n",
       "</style>\n",
       "<table border=\"1\" class=\"dataframe\">\n",
       "  <thead>\n",
       "    <tr style=\"text-align: right;\">\n",
       "      <th></th>\n",
       "      <th>icgc_donor_id</th>\n",
       "      <th>project_code</th>\n",
       "      <th>icgc_specimen_id</th>\n",
       "      <th>icgc_sample_id</th>\n",
       "      <th>submitted_sample_id</th>\n",
       "      <th>analysis_id</th>\n",
       "      <th>antibody_id</th>\n",
       "      <th>gene_name</th>\n",
       "      <th>gene_stable_id</th>\n",
       "      <th>gene_build_version</th>\n",
       "      <th>normalized_expression_level</th>\n",
       "      <th>verification_status</th>\n",
       "      <th>verification_platform</th>\n",
       "      <th>platform</th>\n",
       "      <th>experimental_protocol</th>\n",
       "      <th>raw_data_repository</th>\n",
       "      <th>raw_data_accession</th>\n",
       "    </tr>\n",
       "  </thead>\n",
       "  <tbody>\n",
       "    <tr>\n",
       "      <th>0</th>\n",
       "      <td>DO4143</td>\n",
       "      <td>BRCA-US</td>\n",
       "      <td>SP8807</td>\n",
       "      <td>SA11426</td>\n",
       "      <td>TCGA-A1-A0SK-01A-21-A13A-20</td>\n",
       "      <td>10694</td>\n",
       "      <td>PAI-1</td>\n",
       "      <td>SERPINE1</td>\n",
       "      <td>NaN</td>\n",
       "      <td>NaN</td>\n",
       "      <td>1.769954</td>\n",
       "      <td>not tested</td>\n",
       "      <td>NaN</td>\n",
       "      <td>M.D. Anderson Reverse Phase Protein Array Core</td>\n",
       "      <td>MDA_RPPA_Core http://tcga-data.nci.nih.gov/tcg...</td>\n",
       "      <td>TCGA</td>\n",
       "      <td>TCGA-A1-A0SK-01A-21-A13A-20</td>\n",
       "    </tr>\n",
       "  </tbody>\n",
       "</table>\n",
       "</div>"
      ],
      "text/plain": [
       "  icgc_donor_id project_code icgc_specimen_id icgc_sample_id  \\\n",
       "0        DO4143      BRCA-US           SP8807        SA11426   \n",
       "\n",
       "           submitted_sample_id  analysis_id antibody_id gene_name  \\\n",
       "0  TCGA-A1-A0SK-01A-21-A13A-20        10694       PAI-1  SERPINE1   \n",
       "\n",
       "   gene_stable_id  gene_build_version  normalized_expression_level  \\\n",
       "0             NaN                 NaN                     1.769954   \n",
       "\n",
       "  verification_status  verification_platform  \\\n",
       "0          not tested                    NaN   \n",
       "\n",
       "                                         platform  \\\n",
       "0  M.D. Anderson Reverse Phase Protein Array Core   \n",
       "\n",
       "                               experimental_protocol raw_data_repository  \\\n",
       "0  MDA_RPPA_Core http://tcga-data.nci.nih.gov/tcg...                TCGA   \n",
       "\n",
       "            raw_data_accession  \n",
       "0  TCGA-A1-A0SK-01A-21-A13A-20  "
      ]
     },
     "execution_count": 5,
     "metadata": {},
     "output_type": "execute_result"
    }
   ],
   "source": [
    "import pandas as pd\n",
    "\n",
    "# Let's read with pandas\n",
    "# Note that we do not even need to unzip the file before opening!\n",
    "brca_data = pd.read_table(FILENAME, sep=\"\\t\")\n",
    "brca_data.head(1)"
   ]
  },
  {
   "cell_type": "markdown",
   "metadata": {
    "slideshow": {
     "slide_type": "slide"
    }
   },
   "source": [
    "## Pandas can even retrieve from an SQL database directly"
   ]
  },
  {
   "cell_type": "code",
   "execution_count": 6,
   "metadata": {},
   "outputs": [
    {
     "name": "stdout",
     "output_type": "stream",
     "text": [
      "Requirement already satisfied: pymysql in /anaconda3/lib/python3.7/site-packages (0.9.3)\n"
     ]
    }
   ],
   "source": [
    "# you may need to \n",
    "#!pip install sqlalchemy\n",
    "!pip install pymysql"
   ]
  },
  {
   "cell_type": "code",
   "execution_count": 7,
   "metadata": {
    "slideshow": {
     "slide_type": "slide"
    }
   },
   "outputs": [
    {
     "data": {
      "text/html": [
       "<div>\n",
       "<style scoped>\n",
       "    .dataframe tbody tr th:only-of-type {\n",
       "        vertical-align: middle;\n",
       "    }\n",
       "\n",
       "    .dataframe tbody tr th {\n",
       "        vertical-align: top;\n",
       "    }\n",
       "\n",
       "    .dataframe thead th {\n",
       "        text-align: right;\n",
       "    }\n",
       "</style>\n",
       "<table border=\"1\" class=\"dataframe\">\n",
       "  <thead>\n",
       "    <tr style=\"text-align: right;\">\n",
       "      <th></th>\n",
       "      <th>bin</th>\n",
       "      <th>chrom</th>\n",
       "      <th>chromStart</th>\n",
       "      <th>chromEnd</th>\n",
       "      <th>name</th>\n",
       "      <th>score</th>\n",
       "      <th>strand</th>\n",
       "      <th>refNCBI</th>\n",
       "      <th>refUCSC</th>\n",
       "      <th>observed</th>\n",
       "      <th>...</th>\n",
       "      <th>locType</th>\n",
       "      <th>weight</th>\n",
       "      <th>exceptions</th>\n",
       "      <th>submitterCount</th>\n",
       "      <th>submitters</th>\n",
       "      <th>alleleFreqCount</th>\n",
       "      <th>alleles</th>\n",
       "      <th>alleleNs</th>\n",
       "      <th>alleleFreqs</th>\n",
       "      <th>bitfields</th>\n",
       "    </tr>\n",
       "  </thead>\n",
       "  <tbody>\n",
       "    <tr>\n",
       "      <th>0</th>\n",
       "      <td>585</td>\n",
       "      <td>chrY</td>\n",
       "      <td>10020</td>\n",
       "      <td>10020</td>\n",
       "      <td>rs745593600</td>\n",
       "      <td>0</td>\n",
       "      <td>+</td>\n",
       "      <td>b'-'</td>\n",
       "      <td>b'-'</td>\n",
       "      <td>-/A/AAC</td>\n",
       "      <td>...</td>\n",
       "      <td>between</td>\n",
       "      <td>1</td>\n",
       "      <td>MixedObserved</td>\n",
       "      <td>1</td>\n",
       "      <td>b'1000GENOMES,'</td>\n",
       "      <td>3</td>\n",
       "      <td>b'-,A,AAC,'</td>\n",
       "      <td>b'4906.000000,10.000000,92.000000,'</td>\n",
       "      <td>b'0.979633,0.001997,0.018371,'</td>\n",
       "      <td></td>\n",
       "    </tr>\n",
       "    <tr>\n",
       "      <th>1</th>\n",
       "      <td>585</td>\n",
       "      <td>chrY</td>\n",
       "      <td>10034</td>\n",
       "      <td>10036</td>\n",
       "      <td>rs201278642</td>\n",
       "      <td>0</td>\n",
       "      <td>+</td>\n",
       "      <td>b'CC'</td>\n",
       "      <td>b'CC'</td>\n",
       "      <td>-/CC</td>\n",
       "      <td>...</td>\n",
       "      <td>range</td>\n",
       "      <td>1</td>\n",
       "      <td>MixedObserved</td>\n",
       "      <td>2</td>\n",
       "      <td>b'1000GENOMES,SSMP,'</td>\n",
       "      <td>2</td>\n",
       "      <td>b'-,CC,'</td>\n",
       "      <td>b'369.000000,4637.000000,'</td>\n",
       "      <td>b'0.073711,0.926288,'</td>\n",
       "      <td>maf-5-some-pop</td>\n",
       "    </tr>\n",
       "    <tr>\n",
       "      <th>2</th>\n",
       "      <td>585</td>\n",
       "      <td>chrY</td>\n",
       "      <td>10051</td>\n",
       "      <td>10052</td>\n",
       "      <td>rs186434315</td>\n",
       "      <td>0</td>\n",
       "      <td>+</td>\n",
       "      <td>b'T'</td>\n",
       "      <td>b'T'</td>\n",
       "      <td>A/T</td>\n",
       "      <td>...</td>\n",
       "      <td>exact</td>\n",
       "      <td>1</td>\n",
       "      <td></td>\n",
       "      <td>2</td>\n",
       "      <td>b'1000GENOMES,SSMP,'</td>\n",
       "      <td>2</td>\n",
       "      <td>b'A,T,'</td>\n",
       "      <td>b'1582.000000,3426.000000,'</td>\n",
       "      <td>b'0.315895,0.684105,'</td>\n",
       "      <td>maf-5-some-pop,maf-5-all-pops</td>\n",
       "    </tr>\n",
       "  </tbody>\n",
       "</table>\n",
       "<p>3 rows × 26 columns</p>\n",
       "</div>"
      ],
      "text/plain": [
       "   bin chrom  chromStart  chromEnd         name  score strand refNCBI refUCSC  \\\n",
       "0  585  chrY       10020     10020  rs745593600      0      +    b'-'    b'-'   \n",
       "1  585  chrY       10034     10036  rs201278642      0      +   b'CC'   b'CC'   \n",
       "2  585  chrY       10051     10052  rs186434315      0      +    b'T'    b'T'   \n",
       "\n",
       "  observed  ...  locType weight     exceptions  submitterCount  \\\n",
       "0  -/A/AAC  ...  between      1  MixedObserved               1   \n",
       "1     -/CC  ...    range      1  MixedObserved               2   \n",
       "2      A/T  ...    exact      1                              2   \n",
       "\n",
       "             submitters alleleFreqCount      alleles  \\\n",
       "0       b'1000GENOMES,'               3  b'-,A,AAC,'   \n",
       "1  b'1000GENOMES,SSMP,'               2     b'-,CC,'   \n",
       "2  b'1000GENOMES,SSMP,'               2      b'A,T,'   \n",
       "\n",
       "                              alleleNs                     alleleFreqs  \\\n",
       "0  b'4906.000000,10.000000,92.000000,'  b'0.979633,0.001997,0.018371,'   \n",
       "1           b'369.000000,4637.000000,'           b'0.073711,0.926288,'   \n",
       "2          b'1582.000000,3426.000000,'           b'0.315895,0.684105,'   \n",
       "\n",
       "                       bitfields  \n",
       "0                                 \n",
       "1                 maf-5-some-pop  \n",
       "2  maf-5-some-pop,maf-5-all-pops  \n",
       "\n",
       "[3 rows x 26 columns]"
      ]
     },
     "execution_count": 7,
     "metadata": {},
     "output_type": "execute_result"
    }
   ],
   "source": [
    "import sqlalchemy as sa\n",
    "# Connect to UCSC genomic database\n",
    "engine = sa.create_engine('mysql+pymysql://genome@genome-mysql.cse.ucsc.edu/hg38', poolclass=sa.pool.NullPool)\n",
    "# select 3 SNPs from Chromosome Y\n",
    "pd.read_sql(\"SELECT * FROM snp147Common WHERE chrom='chrY' LIMIT 3\", engine)"
   ]
  },
  {
   "cell_type": "markdown",
   "metadata": {
    "slideshow": {
     "slide_type": "slide"
    }
   },
   "source": [
    "\n",
    "## Pandas dataframes"
   ]
  },
  {
   "cell_type": "markdown",
   "metadata": {},
   "source": [
    "* Dataframes are convenient containers for mixed data types"
   ]
  },
  {
   "cell_type": "markdown",
   "metadata": {
    "slideshow": {
     "slide_type": "fragment"
    }
   },
   "source": [
    "* Pandas is *incredibly useful* for data wrangling"
   ]
  },
  {
   "cell_type": "markdown",
   "metadata": {
    "slideshow": {
     "slide_type": "fragment"
    }
   },
   "source": [
    "* sklearn is happy to accept Pandas dataframes as input"
   ]
  },
  {
   "cell_type": "markdown",
   "metadata": {
    "slideshow": {
     "slide_type": "fragment"
    }
   },
   "source": [
    "* Pandas is built for exploratory analysis, visualization and stat tests / ML "
   ]
  },
  {
   "cell_type": "code",
   "execution_count": 11,
   "metadata": {},
   "outputs": [
    {
     "data": {
      "text/html": [
       "<div>\n",
       "<style scoped>\n",
       "    .dataframe tbody tr th:only-of-type {\n",
       "        vertical-align: middle;\n",
       "    }\n",
       "\n",
       "    .dataframe tbody tr th {\n",
       "        vertical-align: top;\n",
       "    }\n",
       "\n",
       "    .dataframe thead th {\n",
       "        text-align: right;\n",
       "    }\n",
       "</style>\n",
       "<table border=\"1\" class=\"dataframe\">\n",
       "  <thead>\n",
       "    <tr style=\"text-align: right;\">\n",
       "      <th></th>\n",
       "      <th>icgc_donor_id</th>\n",
       "      <th>project_code</th>\n",
       "      <th>icgc_specimen_id</th>\n",
       "      <th>icgc_sample_id</th>\n",
       "      <th>submitted_sample_id</th>\n",
       "      <th>analysis_id</th>\n",
       "      <th>antibody_id</th>\n",
       "      <th>gene_name</th>\n",
       "      <th>gene_stable_id</th>\n",
       "      <th>gene_build_version</th>\n",
       "      <th>normalized_expression_level</th>\n",
       "      <th>verification_status</th>\n",
       "      <th>verification_platform</th>\n",
       "      <th>platform</th>\n",
       "      <th>experimental_protocol</th>\n",
       "      <th>raw_data_repository</th>\n",
       "      <th>raw_data_accession</th>\n",
       "    </tr>\n",
       "  </thead>\n",
       "  <tbody>\n",
       "    <tr>\n",
       "      <th>0</th>\n",
       "      <td>DO4143</td>\n",
       "      <td>BRCA-US</td>\n",
       "      <td>SP8807</td>\n",
       "      <td>SA11426</td>\n",
       "      <td>TCGA-A1-A0SK-01A-21-A13A-20</td>\n",
       "      <td>10694</td>\n",
       "      <td>PAI-1</td>\n",
       "      <td>SERPINE1</td>\n",
       "      <td>NaN</td>\n",
       "      <td>NaN</td>\n",
       "      <td>1.769954</td>\n",
       "      <td>not tested</td>\n",
       "      <td>NaN</td>\n",
       "      <td>M.D. Anderson Reverse Phase Protein Array Core</td>\n",
       "      <td>MDA_RPPA_Core http://tcga-data.nci.nih.gov/tcg...</td>\n",
       "      <td>TCGA</td>\n",
       "      <td>TCGA-A1-A0SK-01A-21-A13A-20</td>\n",
       "    </tr>\n",
       "    <tr>\n",
       "      <th>1</th>\n",
       "      <td>DO4143</td>\n",
       "      <td>BRCA-US</td>\n",
       "      <td>SP8807</td>\n",
       "      <td>SA11426</td>\n",
       "      <td>TCGA-A1-A0SK-01A-21-A13A-20</td>\n",
       "      <td>10694</td>\n",
       "      <td>ARID1A</td>\n",
       "      <td>ARID1A</td>\n",
       "      <td>NaN</td>\n",
       "      <td>NaN</td>\n",
       "      <td>0.619539</td>\n",
       "      <td>not tested</td>\n",
       "      <td>NaN</td>\n",
       "      <td>M.D. Anderson Reverse Phase Protein Array Core</td>\n",
       "      <td>MDA_RPPA_Core http://tcga-data.nci.nih.gov/tcg...</td>\n",
       "      <td>TCGA</td>\n",
       "      <td>TCGA-A1-A0SK-01A-21-A13A-20</td>\n",
       "    </tr>\n",
       "    <tr>\n",
       "      <th>2</th>\n",
       "      <td>DO4143</td>\n",
       "      <td>BRCA-US</td>\n",
       "      <td>SP8807</td>\n",
       "      <td>SA11426</td>\n",
       "      <td>TCGA-A1-A0SK-01A-21-A13A-20</td>\n",
       "      <td>10694</td>\n",
       "      <td>mTOR_pS2448</td>\n",
       "      <td>FRAP1</td>\n",
       "      <td>NaN</td>\n",
       "      <td>NaN</td>\n",
       "      <td>-0.538637</td>\n",
       "      <td>not tested</td>\n",
       "      <td>NaN</td>\n",
       "      <td>M.D. Anderson Reverse Phase Protein Array Core</td>\n",
       "      <td>MDA_RPPA_Core http://tcga-data.nci.nih.gov/tcg...</td>\n",
       "      <td>TCGA</td>\n",
       "      <td>TCGA-A1-A0SK-01A-21-A13A-20</td>\n",
       "    </tr>\n",
       "    <tr>\n",
       "      <th>3</th>\n",
       "      <td>DO4143</td>\n",
       "      <td>BRCA-US</td>\n",
       "      <td>SP8807</td>\n",
       "      <td>SA11426</td>\n",
       "      <td>TCGA-A1-A0SK-01A-21-A13A-20</td>\n",
       "      <td>10694</td>\n",
       "      <td>ASNS</td>\n",
       "      <td>ASNS</td>\n",
       "      <td>NaN</td>\n",
       "      <td>NaN</td>\n",
       "      <td>1.156044</td>\n",
       "      <td>not tested</td>\n",
       "      <td>NaN</td>\n",
       "      <td>M.D. Anderson Reverse Phase Protein Array Core</td>\n",
       "      <td>MDA_RPPA_Core http://tcga-data.nci.nih.gov/tcg...</td>\n",
       "      <td>TCGA</td>\n",
       "      <td>TCGA-A1-A0SK-01A-21-A13A-20</td>\n",
       "    </tr>\n",
       "    <tr>\n",
       "      <th>4</th>\n",
       "      <td>DO4143</td>\n",
       "      <td>BRCA-US</td>\n",
       "      <td>SP8807</td>\n",
       "      <td>SA11426</td>\n",
       "      <td>TCGA-A1-A0SK-01A-21-A13A-20</td>\n",
       "      <td>10694</td>\n",
       "      <td>EGFR</td>\n",
       "      <td>EGFR</td>\n",
       "      <td>NaN</td>\n",
       "      <td>NaN</td>\n",
       "      <td>0.120138</td>\n",
       "      <td>not tested</td>\n",
       "      <td>NaN</td>\n",
       "      <td>M.D. Anderson Reverse Phase Protein Array Core</td>\n",
       "      <td>MDA_RPPA_Core http://tcga-data.nci.nih.gov/tcg...</td>\n",
       "      <td>TCGA</td>\n",
       "      <td>TCGA-A1-A0SK-01A-21-A13A-20</td>\n",
       "    </tr>\n",
       "  </tbody>\n",
       "</table>\n",
       "</div>"
      ],
      "text/plain": [
       "  icgc_donor_id project_code icgc_specimen_id icgc_sample_id  \\\n",
       "0        DO4143      BRCA-US           SP8807        SA11426   \n",
       "1        DO4143      BRCA-US           SP8807        SA11426   \n",
       "2        DO4143      BRCA-US           SP8807        SA11426   \n",
       "3        DO4143      BRCA-US           SP8807        SA11426   \n",
       "4        DO4143      BRCA-US           SP8807        SA11426   \n",
       "\n",
       "           submitted_sample_id  analysis_id  antibody_id gene_name  \\\n",
       "0  TCGA-A1-A0SK-01A-21-A13A-20        10694        PAI-1  SERPINE1   \n",
       "1  TCGA-A1-A0SK-01A-21-A13A-20        10694       ARID1A    ARID1A   \n",
       "2  TCGA-A1-A0SK-01A-21-A13A-20        10694  mTOR_pS2448     FRAP1   \n",
       "3  TCGA-A1-A0SK-01A-21-A13A-20        10694         ASNS      ASNS   \n",
       "4  TCGA-A1-A0SK-01A-21-A13A-20        10694         EGFR      EGFR   \n",
       "\n",
       "   gene_stable_id  gene_build_version  normalized_expression_level  \\\n",
       "0             NaN                 NaN                     1.769954   \n",
       "1             NaN                 NaN                     0.619539   \n",
       "2             NaN                 NaN                    -0.538637   \n",
       "3             NaN                 NaN                     1.156044   \n",
       "4             NaN                 NaN                     0.120138   \n",
       "\n",
       "  verification_status  verification_platform  \\\n",
       "0          not tested                    NaN   \n",
       "1          not tested                    NaN   \n",
       "2          not tested                    NaN   \n",
       "3          not tested                    NaN   \n",
       "4          not tested                    NaN   \n",
       "\n",
       "                                         platform  \\\n",
       "0  M.D. Anderson Reverse Phase Protein Array Core   \n",
       "1  M.D. Anderson Reverse Phase Protein Array Core   \n",
       "2  M.D. Anderson Reverse Phase Protein Array Core   \n",
       "3  M.D. Anderson Reverse Phase Protein Array Core   \n",
       "4  M.D. Anderson Reverse Phase Protein Array Core   \n",
       "\n",
       "                               experimental_protocol raw_data_repository  \\\n",
       "0  MDA_RPPA_Core http://tcga-data.nci.nih.gov/tcg...                TCGA   \n",
       "1  MDA_RPPA_Core http://tcga-data.nci.nih.gov/tcg...                TCGA   \n",
       "2  MDA_RPPA_Core http://tcga-data.nci.nih.gov/tcg...                TCGA   \n",
       "3  MDA_RPPA_Core http://tcga-data.nci.nih.gov/tcg...                TCGA   \n",
       "4  MDA_RPPA_Core http://tcga-data.nci.nih.gov/tcg...                TCGA   \n",
       "\n",
       "            raw_data_accession  \n",
       "0  TCGA-A1-A0SK-01A-21-A13A-20  \n",
       "1  TCGA-A1-A0SK-01A-21-A13A-20  \n",
       "2  TCGA-A1-A0SK-01A-21-A13A-20  \n",
       "3  TCGA-A1-A0SK-01A-21-A13A-20  \n",
       "4  TCGA-A1-A0SK-01A-21-A13A-20  "
      ]
     },
     "execution_count": 11,
     "metadata": {},
     "output_type": "execute_result"
    }
   ],
   "source": [
    "brca_data.head()"
   ]
  },
  {
   "cell_type": "code",
   "execution_count": 8,
   "metadata": {
    "slideshow": {
     "slide_type": "slide"
    }
   },
   "outputs": [
    {
     "data": {
      "image/png": "[encoded data removed]",
      "text/plain": [
       "<Figure size 432x288 with 1 Axes>"
      ]
     },
     "metadata": {
      "needs_background": "light"
     },
     "output_type": "display_data"
    }
   ],
   "source": [
    "# Plotting boilerplate\n",
    "import matplotlib.pyplot as plt\n",
    "%matplotlib inline # need this to get plot to show up\n",
    "\n",
    "brca_data['normalized_expression_level'].hist();"
   ]
  },
  {
   "cell_type": "markdown",
   "metadata": {
    "slideshow": {
     "slide_type": "slide"
    }
   },
   "source": [
    "## Pre-processing a dataset: when are ready for ML?"
   ]
  },
  {
   "cell_type": "markdown",
   "metadata": {
    "slideshow": {
     "slide_type": "fragment"
    }
   },
   "source": [
    "* Ideally, data are organized as a table: examples-vs-features"
   ]
  },
  {
   "cell_type": "markdown",
   "metadata": {
    "slideshow": {
     "slide_type": "fragment"
    }
   },
   "source": [
    "* Data from multiple sources are combined"
   ]
  },
  {
   "cell_type": "markdown",
   "metadata": {
    "slideshow": {
     "slide_type": "fragment"
    }
   },
   "source": [
    "* Missing data are handled"
   ]
  },
  {
   "cell_type": "markdown",
   "metadata": {
    "slideshow": {
     "slide_type": "fragment"
    }
   },
   "source": [
    "* Features have been combined and manipulated as needed"
   ]
  },
  {
   "cell_type": "markdown",
   "metadata": {
    "slideshow": {
     "slide_type": "fragment"
    }
   },
   "source": [
    "* Any data that need to be normalized have been normalized"
   ]
  },
  {
   "cell_type": "markdown",
   "metadata": {
    "slideshow": {
     "slide_type": "fragment"
    }
   },
   "source": [
    "* Data are of the correct type (e.g. categorical vs continuous, boolean vs int)"
   ]
  },
  {
   "cell_type": "markdown",
   "metadata": {
    "slideshow": {
     "slide_type": "slide"
    }
   },
   "source": [
    "## Let's have a look at Boston housing prices"
   ]
  },
  {
   "cell_type": "code",
   "execution_count": 15,
   "metadata": {
    "slideshow": {
     "slide_type": "fragment"
    }
   },
   "outputs": [
    {
     "data": {
      "text/html": [
       "<div>\n",
       "<style scoped>\n",
       "    .dataframe tbody tr th:only-of-type {\n",
       "        vertical-align: middle;\n",
       "    }\n",
       "\n",
       "    .dataframe tbody tr th {\n",
       "        vertical-align: top;\n",
       "    }\n",
       "\n",
       "    .dataframe thead th {\n",
       "        text-align: right;\n",
       "    }\n",
       "</style>\n",
       "<table border=\"1\" class=\"dataframe\">\n",
       "  <thead>\n",
       "    <tr style=\"text-align: right;\">\n",
       "      <th></th>\n",
       "      <th>Id</th>\n",
       "      <th>LotFrontage</th>\n",
       "      <th>CentralAir</th>\n",
       "      <th>1stFlrSF</th>\n",
       "      <th>SaleCondition</th>\n",
       "      <th>SalePrice</th>\n",
       "    </tr>\n",
       "  </thead>\n",
       "  <tbody>\n",
       "    <tr>\n",
       "      <th>0</th>\n",
       "      <td>1</td>\n",
       "      <td>65.0</td>\n",
       "      <td>Y</td>\n",
       "      <td>856</td>\n",
       "      <td>Normal</td>\n",
       "      <td>208500</td>\n",
       "    </tr>\n",
       "    <tr>\n",
       "      <th>1</th>\n",
       "      <td>2</td>\n",
       "      <td>80.0</td>\n",
       "      <td>Y</td>\n",
       "      <td>1262</td>\n",
       "      <td>Normal</td>\n",
       "      <td>181500</td>\n",
       "    </tr>\n",
       "    <tr>\n",
       "      <th>2</th>\n",
       "      <td>3</td>\n",
       "      <td>68.0</td>\n",
       "      <td>Y</td>\n",
       "      <td>920</td>\n",
       "      <td>Normal</td>\n",
       "      <td>223500</td>\n",
       "    </tr>\n",
       "    <tr>\n",
       "      <th>3</th>\n",
       "      <td>4</td>\n",
       "      <td>60.0</td>\n",
       "      <td>Y</td>\n",
       "      <td>961</td>\n",
       "      <td>Abnorml</td>\n",
       "      <td>140000</td>\n",
       "    </tr>\n",
       "    <tr>\n",
       "      <th>4</th>\n",
       "      <td>5</td>\n",
       "      <td>84.0</td>\n",
       "      <td>Y</td>\n",
       "      <td>1145</td>\n",
       "      <td>Normal</td>\n",
       "      <td>250000</td>\n",
       "    </tr>\n",
       "  </tbody>\n",
       "</table>\n",
       "</div>"
      ],
      "text/plain": [
       "   Id  LotFrontage CentralAir  1stFlrSF SaleCondition  SalePrice\n",
       "0   1         65.0          Y       856        Normal     208500\n",
       "1   2         80.0          Y      1262        Normal     181500\n",
       "2   3         68.0          Y       920        Normal     223500\n",
       "3   4         60.0          Y       961       Abnorml     140000\n",
       "4   5         84.0          Y      1145        Normal     250000"
      ]
     },
     "execution_count": 15,
     "metadata": {},
     "output_type": "execute_result"
    }
   ],
   "source": [
    "boston = pd.read_csv(\"boston_data.csv\")\n",
    "boston.head()"
   ]
  },
  {
   "cell_type": "markdown",
   "metadata": {
    "slideshow": {
     "slide_type": "slide"
    }
   },
   "source": [
    "## Pre-processing a dataset: when are ready for ML?\n",
    "* ~~Ideally, data are organized as a table: examples-vs-features~~\n",
    "* Data from multiple sources are combined\n",
    "* Missing data are handled\n",
    "* Features have been combined and manipulated as needed\n",
    "* Any data that need to be normalized have been normalized\n",
    "* Data are of correct type (e.g. categorical vs continuous, boolean vs int)"
   ]
  },
  {
   "cell_type": "markdown",
   "metadata": {
    "slideshow": {
     "slide_type": "slide"
    }
   },
   "source": [
    "## Combining data from multiple sources"
   ]
  },
  {
   "cell_type": "code",
   "execution_count": 16,
   "metadata": {
    "slideshow": {
     "slide_type": "fragment"
    }
   },
   "outputs": [
    {
     "data": {
      "text/html": [
       "<div>\n",
       "<style scoped>\n",
       "    .dataframe tbody tr th:only-of-type {\n",
       "        vertical-align: middle;\n",
       "    }\n",
       "\n",
       "    .dataframe tbody tr th {\n",
       "        vertical-align: top;\n",
       "    }\n",
       "\n",
       "    .dataframe thead th {\n",
       "        text-align: right;\n",
       "    }\n",
       "</style>\n",
       "<table border=\"1\" class=\"dataframe\">\n",
       "  <thead>\n",
       "    <tr style=\"text-align: right;\">\n",
       "      <th></th>\n",
       "      <th>Id</th>\n",
       "      <th>2ndFlrSF</th>\n",
       "    </tr>\n",
       "  </thead>\n",
       "  <tbody>\n",
       "    <tr>\n",
       "      <th>0</th>\n",
       "      <td>2</td>\n",
       "      <td>0</td>\n",
       "    </tr>\n",
       "    <tr>\n",
       "      <th>1</th>\n",
       "      <td>1</td>\n",
       "      <td>854</td>\n",
       "    </tr>\n",
       "    <tr>\n",
       "      <th>2</th>\n",
       "      <td>3</td>\n",
       "      <td>866</td>\n",
       "    </tr>\n",
       "    <tr>\n",
       "      <th>3</th>\n",
       "      <td>4</td>\n",
       "      <td>756</td>\n",
       "    </tr>\n",
       "    <tr>\n",
       "      <th>4</th>\n",
       "      <td>5</td>\n",
       "      <td>1053</td>\n",
       "    </tr>\n",
       "  </tbody>\n",
       "</table>\n",
       "</div>"
      ],
      "text/plain": [
       "   Id  2ndFlrSF\n",
       "0   2         0\n",
       "1   1       854\n",
       "2   3       866\n",
       "3   4       756\n",
       "4   5      1053"
      ]
     },
     "execution_count": 16,
     "metadata": {},
     "output_type": "execute_result"
    }
   ],
   "source": [
    "boston_second_floor = pd.read_csv(\"boston_second_floor.csv\")\n",
    "boston_second_floor.head()\n",
    "#boston.head()"
   ]
  },
  {
   "cell_type": "markdown",
   "metadata": {
    "slideshow": {
     "slide_type": "slide"
    }
   },
   "source": [
    "## Combining data from multiple sources"
   ]
  },
  {
   "cell_type": "code",
   "execution_count": 17,
   "metadata": {
    "slideshow": {
     "slide_type": "slide"
    }
   },
   "outputs": [
    {
     "data": {
      "text/html": [
       "<div>\n",
       "<style scoped>\n",
       "    .dataframe tbody tr th:only-of-type {\n",
       "        vertical-align: middle;\n",
       "    }\n",
       "\n",
       "    .dataframe tbody tr th {\n",
       "        vertical-align: top;\n",
       "    }\n",
       "\n",
       "    .dataframe thead th {\n",
       "        text-align: right;\n",
       "    }\n",
       "</style>\n",
       "<table border=\"1\" class=\"dataframe\">\n",
       "  <thead>\n",
       "    <tr style=\"text-align: right;\">\n",
       "      <th></th>\n",
       "      <th>Id</th>\n",
       "      <th>LotFrontage</th>\n",
       "      <th>CentralAir</th>\n",
       "      <th>1stFlrSF</th>\n",
       "      <th>SaleCondition</th>\n",
       "      <th>SalePrice</th>\n",
       "      <th>2ndFlrSF</th>\n",
       "    </tr>\n",
       "  </thead>\n",
       "  <tbody>\n",
       "    <tr>\n",
       "      <th>0</th>\n",
       "      <td>1</td>\n",
       "      <td>65.0</td>\n",
       "      <td>Y</td>\n",
       "      <td>856</td>\n",
       "      <td>Normal</td>\n",
       "      <td>208500</td>\n",
       "      <td>854</td>\n",
       "    </tr>\n",
       "    <tr>\n",
       "      <th>1</th>\n",
       "      <td>2</td>\n",
       "      <td>80.0</td>\n",
       "      <td>Y</td>\n",
       "      <td>1262</td>\n",
       "      <td>Normal</td>\n",
       "      <td>181500</td>\n",
       "      <td>0</td>\n",
       "    </tr>\n",
       "    <tr>\n",
       "      <th>2</th>\n",
       "      <td>3</td>\n",
       "      <td>68.0</td>\n",
       "      <td>Y</td>\n",
       "      <td>920</td>\n",
       "      <td>Normal</td>\n",
       "      <td>223500</td>\n",
       "      <td>866</td>\n",
       "    </tr>\n",
       "    <tr>\n",
       "      <th>3</th>\n",
       "      <td>4</td>\n",
       "      <td>60.0</td>\n",
       "      <td>Y</td>\n",
       "      <td>961</td>\n",
       "      <td>Abnorml</td>\n",
       "      <td>140000</td>\n",
       "      <td>756</td>\n",
       "    </tr>\n",
       "    <tr>\n",
       "      <th>4</th>\n",
       "      <td>5</td>\n",
       "      <td>84.0</td>\n",
       "      <td>Y</td>\n",
       "      <td>1145</td>\n",
       "      <td>Normal</td>\n",
       "      <td>250000</td>\n",
       "      <td>1053</td>\n",
       "    </tr>\n",
       "  </tbody>\n",
       "</table>\n",
       "</div>"
      ],
      "text/plain": [
       "   Id  LotFrontage CentralAir  1stFlrSF SaleCondition  SalePrice  2ndFlrSF\n",
       "0   1         65.0          Y       856        Normal     208500       854\n",
       "1   2         80.0          Y      1262        Normal     181500         0\n",
       "2   3         68.0          Y       920        Normal     223500       866\n",
       "3   4         60.0          Y       961       Abnorml     140000       756\n",
       "4   5         84.0          Y      1145        Normal     250000      1053"
      ]
     },
     "execution_count": 17,
     "metadata": {},
     "output_type": "execute_result"
    }
   ],
   "source": [
    "# Let's combine boston and boston second floor\n",
    "boston = pd.merge(boston, boston_second_floor, on=\"Id\")\n",
    "boston.head()\n"
   ]
  },
  {
   "cell_type": "code",
   "execution_count": 18,
   "metadata": {
    "slideshow": {
     "slide_type": "slide"
    }
   },
   "outputs": [
    {
     "data": {
      "text/html": [
       "<div>\n",
       "<style scoped>\n",
       "    .dataframe tbody tr th:only-of-type {\n",
       "        vertical-align: middle;\n",
       "    }\n",
       "\n",
       "    .dataframe tbody tr th {\n",
       "        vertical-align: top;\n",
       "    }\n",
       "\n",
       "    .dataframe thead th {\n",
       "        text-align: right;\n",
       "    }\n",
       "</style>\n",
       "<table border=\"1\" class=\"dataframe\">\n",
       "  <thead>\n",
       "    <tr style=\"text-align: right;\">\n",
       "      <th></th>\n",
       "      <th>Id</th>\n",
       "      <th>CentralAir</th>\n",
       "      <th>1stFlrSF</th>\n",
       "      <th>SaleCondition</th>\n",
       "      <th>SalePrice</th>\n",
       "      <th>LotFrontage</th>\n",
       "    </tr>\n",
       "  </thead>\n",
       "  <tbody>\n",
       "    <tr>\n",
       "      <th>0</th>\n",
       "      <td>44</td>\n",
       "      <td>Y</td>\n",
       "      <td>938</td>\n",
       "      <td>Normal</td>\n",
       "      <td>130250</td>\n",
       "      <td>NaN</td>\n",
       "    </tr>\n",
       "    <tr>\n",
       "      <th>1</th>\n",
       "      <td>45</td>\n",
       "      <td>Y</td>\n",
       "      <td>1150</td>\n",
       "      <td>Normal</td>\n",
       "      <td>141000</td>\n",
       "      <td>70.0</td>\n",
       "    </tr>\n",
       "    <tr>\n",
       "      <th>2</th>\n",
       "      <td>46</td>\n",
       "      <td>Y</td>\n",
       "      <td>1752</td>\n",
       "      <td>Normal</td>\n",
       "      <td>319900</td>\n",
       "      <td>61.0</td>\n",
       "    </tr>\n",
       "  </tbody>\n",
       "</table>\n",
       "</div>"
      ],
      "text/plain": [
       "   Id CentralAir  1stFlrSF SaleCondition  SalePrice  LotFrontage\n",
       "0  44          Y       938        Normal     130250          NaN\n",
       "1  45          Y      1150        Normal     141000         70.0\n",
       "2  46          Y      1752        Normal     319900         61.0"
      ]
     },
     "execution_count": 18,
     "metadata": {},
     "output_type": "execute_result"
    }
   ],
   "source": [
    "# Let's add some additional data\n",
    "boston3 = pd.read_csv(\"boston_additional.csv\", sep=\",\")\n",
    "boston3.head()"
   ]
  },
  {
   "cell_type": "markdown",
   "metadata": {
    "slideshow": {
     "slide_type": "slide"
    }
   },
   "source": [
    "## Thus far"
   ]
  },
  {
   "cell_type": "code",
   "execution_count": 19,
   "metadata": {
    "scrolled": true,
    "slideshow": {
     "slide_type": "slide"
    }
   },
   "outputs": [
    {
     "data": {
      "text/html": [
       "<div>\n",
       "<style scoped>\n",
       "    .dataframe tbody tr th:only-of-type {\n",
       "        vertical-align: middle;\n",
       "    }\n",
       "\n",
       "    .dataframe tbody tr th {\n",
       "        vertical-align: top;\n",
       "    }\n",
       "\n",
       "    .dataframe thead th {\n",
       "        text-align: right;\n",
       "    }\n",
       "</style>\n",
       "<table border=\"1\" class=\"dataframe\">\n",
       "  <thead>\n",
       "    <tr style=\"text-align: right;\">\n",
       "      <th></th>\n",
       "      <th>Id</th>\n",
       "      <th>LotFrontage</th>\n",
       "      <th>CentralAir</th>\n",
       "      <th>1stFlrSF</th>\n",
       "      <th>SaleCondition</th>\n",
       "      <th>SalePrice</th>\n",
       "      <th>2ndFlrSF</th>\n",
       "    </tr>\n",
       "  </thead>\n",
       "  <tbody>\n",
       "    <tr>\n",
       "      <th>38</th>\n",
       "      <td>39</td>\n",
       "      <td>68.0</td>\n",
       "      <td>Y</td>\n",
       "      <td>1057</td>\n",
       "      <td>Abnorml</td>\n",
       "      <td>109000</td>\n",
       "      <td>0</td>\n",
       "    </tr>\n",
       "    <tr>\n",
       "      <th>39</th>\n",
       "      <td>40</td>\n",
       "      <td>65.0</td>\n",
       "      <td>N</td>\n",
       "      <td>1152</td>\n",
       "      <td>AdjLand</td>\n",
       "      <td>82000</td>\n",
       "      <td>0</td>\n",
       "    </tr>\n",
       "    <tr>\n",
       "      <th>40</th>\n",
       "      <td>41</td>\n",
       "      <td>84.0</td>\n",
       "      <td>Y</td>\n",
       "      <td>1324</td>\n",
       "      <td>Abnorml</td>\n",
       "      <td>160000</td>\n",
       "      <td>0</td>\n",
       "    </tr>\n",
       "    <tr>\n",
       "      <th>41</th>\n",
       "      <td>42</td>\n",
       "      <td>115.0</td>\n",
       "      <td>Y</td>\n",
       "      <td>1328</td>\n",
       "      <td>Normal</td>\n",
       "      <td>170000</td>\n",
       "      <td>0</td>\n",
       "    </tr>\n",
       "    <tr>\n",
       "      <th>42</th>\n",
       "      <td>43</td>\n",
       "      <td>NaN</td>\n",
       "      <td>Y</td>\n",
       "      <td>884</td>\n",
       "      <td>Normal</td>\n",
       "      <td>144000</td>\n",
       "      <td>0</td>\n",
       "    </tr>\n",
       "  </tbody>\n",
       "</table>\n",
       "</div>"
      ],
      "text/plain": [
       "    Id  LotFrontage CentralAir  1stFlrSF SaleCondition  SalePrice  2ndFlrSF\n",
       "38  39         68.0          Y      1057       Abnorml     109000         0\n",
       "39  40         65.0          N      1152       AdjLand      82000         0\n",
       "40  41         84.0          Y      1324       Abnorml     160000         0\n",
       "41  42        115.0          Y      1328        Normal     170000         0\n",
       "42  43          NaN          Y       884        Normal     144000         0"
      ]
     },
     "execution_count": 19,
     "metadata": {},
     "output_type": "execute_result"
    }
   ],
   "source": [
    "boston.tail(10)\n",
    "\n",
    "boston.tail()"
   ]
  },
  {
   "cell_type": "code",
   "execution_count": 27,
   "metadata": {},
   "outputs": [
    {
     "data": {
      "text/plain": [
       "(43, 7)"
      ]
     },
     "execution_count": 27,
     "metadata": {},
     "output_type": "execute_result"
    }
   ],
   "source": [
    "boston.shape"
   ]
  },
  {
   "cell_type": "markdown",
   "metadata": {
    "slideshow": {
     "slide_type": "slide"
    }
   },
   "source": [
    "## Pre-processing a dataset: when are ready for ML?\n",
    "* ~~Ideally, data are organized as a table: examples-vs-features~~\n",
    "* ~~Data from multiple sources are combined~~\n",
    "* Missing data are handled\n",
    "* Features have been combined and manipulated as needed\n",
    "* Any data that need to be normalized have been normalized\n",
    "* Data are of correct type (e.g. categorical vs continuous, boolean vs int)"
   ]
  },
  {
   "cell_type": "markdown",
   "metadata": {
    "slideshow": {
     "slide_type": "slide"
    }
   },
   "source": [
    "## Missing data\n",
    "There are a number of ways to handle missing data:\n",
    "\n",
    "* Drop all records with a value missing (simplest, but can lead to bias)\n",
    "* Substitute all missing values with an approximated value (usually depends on data and algorithm)\n",
    "* Add additional feature indicating when a value is missing"
   ]
  },
  {
   "cell_type": "markdown",
   "metadata": {
    "slideshow": {
     "slide_type": "slide"
    }
   },
   "source": [
    "## Missing data"
   ]
  },
  {
   "cell_type": "code",
   "execution_count": 20,
   "metadata": {
    "slideshow": {
     "slide_type": "fragment"
    }
   },
   "outputs": [
    {
     "data": {
      "text/html": [
       "<div>\n",
       "<style scoped>\n",
       "    .dataframe tbody tr th:only-of-type {\n",
       "        vertical-align: middle;\n",
       "    }\n",
       "\n",
       "    .dataframe tbody tr th {\n",
       "        vertical-align: top;\n",
       "    }\n",
       "\n",
       "    .dataframe thead th {\n",
       "        text-align: right;\n",
       "    }\n",
       "</style>\n",
       "<table border=\"1\" class=\"dataframe\">\n",
       "  <thead>\n",
       "    <tr style=\"text-align: right;\">\n",
       "      <th></th>\n",
       "      <th>Id</th>\n",
       "      <th>LotFrontage</th>\n",
       "      <th>CentralAir</th>\n",
       "      <th>1stFlrSF</th>\n",
       "      <th>SaleCondition</th>\n",
       "      <th>SalePrice</th>\n",
       "      <th>2ndFlrSF</th>\n",
       "    </tr>\n",
       "  </thead>\n",
       "  <tbody>\n",
       "    <tr>\n",
       "      <th>0</th>\n",
       "      <td>False</td>\n",
       "      <td>False</td>\n",
       "      <td>False</td>\n",
       "      <td>False</td>\n",
       "      <td>False</td>\n",
       "      <td>False</td>\n",
       "      <td>False</td>\n",
       "    </tr>\n",
       "    <tr>\n",
       "      <th>1</th>\n",
       "      <td>False</td>\n",
       "      <td>False</td>\n",
       "      <td>False</td>\n",
       "      <td>False</td>\n",
       "      <td>False</td>\n",
       "      <td>False</td>\n",
       "      <td>False</td>\n",
       "    </tr>\n",
       "    <tr>\n",
       "      <th>2</th>\n",
       "      <td>False</td>\n",
       "      <td>False</td>\n",
       "      <td>False</td>\n",
       "      <td>False</td>\n",
       "      <td>False</td>\n",
       "      <td>False</td>\n",
       "      <td>False</td>\n",
       "    </tr>\n",
       "    <tr>\n",
       "      <th>3</th>\n",
       "      <td>False</td>\n",
       "      <td>False</td>\n",
       "      <td>False</td>\n",
       "      <td>False</td>\n",
       "      <td>False</td>\n",
       "      <td>False</td>\n",
       "      <td>False</td>\n",
       "    </tr>\n",
       "    <tr>\n",
       "      <th>4</th>\n",
       "      <td>False</td>\n",
       "      <td>False</td>\n",
       "      <td>False</td>\n",
       "      <td>False</td>\n",
       "      <td>False</td>\n",
       "      <td>False</td>\n",
       "      <td>False</td>\n",
       "    </tr>\n",
       "    <tr>\n",
       "      <th>5</th>\n",
       "      <td>False</td>\n",
       "      <td>False</td>\n",
       "      <td>False</td>\n",
       "      <td>False</td>\n",
       "      <td>False</td>\n",
       "      <td>False</td>\n",
       "      <td>False</td>\n",
       "    </tr>\n",
       "    <tr>\n",
       "      <th>6</th>\n",
       "      <td>False</td>\n",
       "      <td>False</td>\n",
       "      <td>False</td>\n",
       "      <td>False</td>\n",
       "      <td>False</td>\n",
       "      <td>False</td>\n",
       "      <td>False</td>\n",
       "    </tr>\n",
       "    <tr>\n",
       "      <th>7</th>\n",
       "      <td>False</td>\n",
       "      <td>True</td>\n",
       "      <td>False</td>\n",
       "      <td>False</td>\n",
       "      <td>False</td>\n",
       "      <td>False</td>\n",
       "      <td>False</td>\n",
       "    </tr>\n",
       "    <tr>\n",
       "      <th>8</th>\n",
       "      <td>False</td>\n",
       "      <td>False</td>\n",
       "      <td>False</td>\n",
       "      <td>False</td>\n",
       "      <td>False</td>\n",
       "      <td>False</td>\n",
       "      <td>False</td>\n",
       "    </tr>\n",
       "    <tr>\n",
       "      <th>9</th>\n",
       "      <td>False</td>\n",
       "      <td>False</td>\n",
       "      <td>False</td>\n",
       "      <td>False</td>\n",
       "      <td>False</td>\n",
       "      <td>False</td>\n",
       "      <td>False</td>\n",
       "    </tr>\n",
       "    <tr>\n",
       "      <th>10</th>\n",
       "      <td>False</td>\n",
       "      <td>False</td>\n",
       "      <td>False</td>\n",
       "      <td>False</td>\n",
       "      <td>False</td>\n",
       "      <td>False</td>\n",
       "      <td>False</td>\n",
       "    </tr>\n",
       "    <tr>\n",
       "      <th>11</th>\n",
       "      <td>False</td>\n",
       "      <td>False</td>\n",
       "      <td>False</td>\n",
       "      <td>False</td>\n",
       "      <td>False</td>\n",
       "      <td>False</td>\n",
       "      <td>False</td>\n",
       "    </tr>\n",
       "    <tr>\n",
       "      <th>12</th>\n",
       "      <td>False</td>\n",
       "      <td>True</td>\n",
       "      <td>False</td>\n",
       "      <td>False</td>\n",
       "      <td>False</td>\n",
       "      <td>False</td>\n",
       "      <td>False</td>\n",
       "    </tr>\n",
       "    <tr>\n",
       "      <th>13</th>\n",
       "      <td>False</td>\n",
       "      <td>False</td>\n",
       "      <td>False</td>\n",
       "      <td>False</td>\n",
       "      <td>False</td>\n",
       "      <td>False</td>\n",
       "      <td>False</td>\n",
       "    </tr>\n",
       "    <tr>\n",
       "      <th>14</th>\n",
       "      <td>False</td>\n",
       "      <td>True</td>\n",
       "      <td>False</td>\n",
       "      <td>False</td>\n",
       "      <td>False</td>\n",
       "      <td>False</td>\n",
       "      <td>False</td>\n",
       "    </tr>\n",
       "    <tr>\n",
       "      <th>15</th>\n",
       "      <td>False</td>\n",
       "      <td>False</td>\n",
       "      <td>False</td>\n",
       "      <td>False</td>\n",
       "      <td>False</td>\n",
       "      <td>False</td>\n",
       "      <td>False</td>\n",
       "    </tr>\n",
       "    <tr>\n",
       "      <th>16</th>\n",
       "      <td>False</td>\n",
       "      <td>True</td>\n",
       "      <td>False</td>\n",
       "      <td>False</td>\n",
       "      <td>False</td>\n",
       "      <td>False</td>\n",
       "      <td>False</td>\n",
       "    </tr>\n",
       "    <tr>\n",
       "      <th>17</th>\n",
       "      <td>False</td>\n",
       "      <td>False</td>\n",
       "      <td>False</td>\n",
       "      <td>False</td>\n",
       "      <td>False</td>\n",
       "      <td>False</td>\n",
       "      <td>False</td>\n",
       "    </tr>\n",
       "    <tr>\n",
       "      <th>18</th>\n",
       "      <td>False</td>\n",
       "      <td>False</td>\n",
       "      <td>False</td>\n",
       "      <td>False</td>\n",
       "      <td>False</td>\n",
       "      <td>False</td>\n",
       "      <td>False</td>\n",
       "    </tr>\n",
       "    <tr>\n",
       "      <th>19</th>\n",
       "      <td>False</td>\n",
       "      <td>False</td>\n",
       "      <td>False</td>\n",
       "      <td>False</td>\n",
       "      <td>False</td>\n",
       "      <td>False</td>\n",
       "      <td>False</td>\n",
       "    </tr>\n",
       "    <tr>\n",
       "      <th>20</th>\n",
       "      <td>False</td>\n",
       "      <td>False</td>\n",
       "      <td>False</td>\n",
       "      <td>False</td>\n",
       "      <td>False</td>\n",
       "      <td>False</td>\n",
       "      <td>False</td>\n",
       "    </tr>\n",
       "    <tr>\n",
       "      <th>21</th>\n",
       "      <td>False</td>\n",
       "      <td>False</td>\n",
       "      <td>False</td>\n",
       "      <td>False</td>\n",
       "      <td>False</td>\n",
       "      <td>False</td>\n",
       "      <td>False</td>\n",
       "    </tr>\n",
       "    <tr>\n",
       "      <th>22</th>\n",
       "      <td>False</td>\n",
       "      <td>False</td>\n",
       "      <td>False</td>\n",
       "      <td>False</td>\n",
       "      <td>False</td>\n",
       "      <td>False</td>\n",
       "      <td>False</td>\n",
       "    </tr>\n",
       "    <tr>\n",
       "      <th>23</th>\n",
       "      <td>False</td>\n",
       "      <td>False</td>\n",
       "      <td>False</td>\n",
       "      <td>False</td>\n",
       "      <td>False</td>\n",
       "      <td>False</td>\n",
       "      <td>False</td>\n",
       "    </tr>\n",
       "    <tr>\n",
       "      <th>24</th>\n",
       "      <td>False</td>\n",
       "      <td>True</td>\n",
       "      <td>False</td>\n",
       "      <td>False</td>\n",
       "      <td>False</td>\n",
       "      <td>False</td>\n",
       "      <td>False</td>\n",
       "    </tr>\n",
       "    <tr>\n",
       "      <th>25</th>\n",
       "      <td>False</td>\n",
       "      <td>False</td>\n",
       "      <td>False</td>\n",
       "      <td>False</td>\n",
       "      <td>False</td>\n",
       "      <td>False</td>\n",
       "      <td>False</td>\n",
       "    </tr>\n",
       "    <tr>\n",
       "      <th>26</th>\n",
       "      <td>False</td>\n",
       "      <td>False</td>\n",
       "      <td>False</td>\n",
       "      <td>False</td>\n",
       "      <td>False</td>\n",
       "      <td>False</td>\n",
       "      <td>False</td>\n",
       "    </tr>\n",
       "    <tr>\n",
       "      <th>27</th>\n",
       "      <td>False</td>\n",
       "      <td>False</td>\n",
       "      <td>False</td>\n",
       "      <td>False</td>\n",
       "      <td>False</td>\n",
       "      <td>False</td>\n",
       "      <td>False</td>\n",
       "    </tr>\n",
       "    <tr>\n",
       "      <th>28</th>\n",
       "      <td>False</td>\n",
       "      <td>False</td>\n",
       "      <td>False</td>\n",
       "      <td>False</td>\n",
       "      <td>False</td>\n",
       "      <td>False</td>\n",
       "      <td>False</td>\n",
       "    </tr>\n",
       "    <tr>\n",
       "      <th>29</th>\n",
       "      <td>False</td>\n",
       "      <td>False</td>\n",
       "      <td>False</td>\n",
       "      <td>False</td>\n",
       "      <td>False</td>\n",
       "      <td>False</td>\n",
       "      <td>False</td>\n",
       "    </tr>\n",
       "    <tr>\n",
       "      <th>30</th>\n",
       "      <td>False</td>\n",
       "      <td>False</td>\n",
       "      <td>False</td>\n",
       "      <td>False</td>\n",
       "      <td>False</td>\n",
       "      <td>False</td>\n",
       "      <td>False</td>\n",
       "    </tr>\n",
       "    <tr>\n",
       "      <th>31</th>\n",
       "      <td>False</td>\n",
       "      <td>True</td>\n",
       "      <td>False</td>\n",
       "      <td>False</td>\n",
       "      <td>False</td>\n",
       "      <td>False</td>\n",
       "      <td>False</td>\n",
       "    </tr>\n",
       "    <tr>\n",
       "      <th>32</th>\n",
       "      <td>False</td>\n",
       "      <td>False</td>\n",
       "      <td>False</td>\n",
       "      <td>False</td>\n",
       "      <td>False</td>\n",
       "      <td>False</td>\n",
       "      <td>False</td>\n",
       "    </tr>\n",
       "    <tr>\n",
       "      <th>33</th>\n",
       "      <td>False</td>\n",
       "      <td>False</td>\n",
       "      <td>False</td>\n",
       "      <td>False</td>\n",
       "      <td>False</td>\n",
       "      <td>False</td>\n",
       "      <td>False</td>\n",
       "    </tr>\n",
       "    <tr>\n",
       "      <th>34</th>\n",
       "      <td>False</td>\n",
       "      <td>False</td>\n",
       "      <td>False</td>\n",
       "      <td>False</td>\n",
       "      <td>False</td>\n",
       "      <td>False</td>\n",
       "      <td>False</td>\n",
       "    </tr>\n",
       "    <tr>\n",
       "      <th>35</th>\n",
       "      <td>False</td>\n",
       "      <td>False</td>\n",
       "      <td>False</td>\n",
       "      <td>False</td>\n",
       "      <td>False</td>\n",
       "      <td>False</td>\n",
       "      <td>False</td>\n",
       "    </tr>\n",
       "    <tr>\n",
       "      <th>36</th>\n",
       "      <td>False</td>\n",
       "      <td>False</td>\n",
       "      <td>False</td>\n",
       "      <td>False</td>\n",
       "      <td>False</td>\n",
       "      <td>False</td>\n",
       "      <td>False</td>\n",
       "    </tr>\n",
       "    <tr>\n",
       "      <th>37</th>\n",
       "      <td>False</td>\n",
       "      <td>False</td>\n",
       "      <td>False</td>\n",
       "      <td>False</td>\n",
       "      <td>False</td>\n",
       "      <td>False</td>\n",
       "      <td>False</td>\n",
       "    </tr>\n",
       "    <tr>\n",
       "      <th>38</th>\n",
       "      <td>False</td>\n",
       "      <td>False</td>\n",
       "      <td>False</td>\n",
       "      <td>False</td>\n",
       "      <td>False</td>\n",
       "      <td>False</td>\n",
       "      <td>False</td>\n",
       "    </tr>\n",
       "    <tr>\n",
       "      <th>39</th>\n",
       "      <td>False</td>\n",
       "      <td>False</td>\n",
       "      <td>False</td>\n",
       "      <td>False</td>\n",
       "      <td>False</td>\n",
       "      <td>False</td>\n",
       "      <td>False</td>\n",
       "    </tr>\n",
       "    <tr>\n",
       "      <th>40</th>\n",
       "      <td>False</td>\n",
       "      <td>False</td>\n",
       "      <td>False</td>\n",
       "      <td>False</td>\n",
       "      <td>False</td>\n",
       "      <td>False</td>\n",
       "      <td>False</td>\n",
       "    </tr>\n",
       "    <tr>\n",
       "      <th>41</th>\n",
       "      <td>False</td>\n",
       "      <td>False</td>\n",
       "      <td>False</td>\n",
       "      <td>False</td>\n",
       "      <td>False</td>\n",
       "      <td>False</td>\n",
       "      <td>False</td>\n",
       "    </tr>\n",
       "    <tr>\n",
       "      <th>42</th>\n",
       "      <td>False</td>\n",
       "      <td>True</td>\n",
       "      <td>False</td>\n",
       "      <td>False</td>\n",
       "      <td>False</td>\n",
       "      <td>False</td>\n",
       "      <td>False</td>\n",
       "    </tr>\n",
       "  </tbody>\n",
       "</table>\n",
       "</div>"
      ],
      "text/plain": [
       "       Id  LotFrontage  CentralAir  1stFlrSF  SaleCondition  SalePrice  \\\n",
       "0   False        False       False     False          False      False   \n",
       "1   False        False       False     False          False      False   \n",
       "2   False        False       False     False          False      False   \n",
       "3   False        False       False     False          False      False   \n",
       "4   False        False       False     False          False      False   \n",
       "5   False        False       False     False          False      False   \n",
       "6   False        False       False     False          False      False   \n",
       "7   False         True       False     False          False      False   \n",
       "8   False        False       False     False          False      False   \n",
       "9   False        False       False     False          False      False   \n",
       "10  False        False       False     False          False      False   \n",
       "11  False        False       False     False          False      False   \n",
       "12  False         True       False     False          False      False   \n",
       "13  False        False       False     False          False      False   \n",
       "14  False         True       False     False          False      False   \n",
       "15  False        False       False     False          False      False   \n",
       "16  False         True       False     False          False      False   \n",
       "17  False        False       False     False          False      False   \n",
       "18  False        False       False     False          False      False   \n",
       "19  False        False       False     False          False      False   \n",
       "20  False        False       False     False          False      False   \n",
       "21  False        False       False     False          False      False   \n",
       "22  False        False       False     False          False      False   \n",
       "23  False        False       False     False          False      False   \n",
       "24  False         True       False     False          False      False   \n",
       "25  False        False       False     False          False      False   \n",
       "26  False        False       False     False          False      False   \n",
       "27  False        False       False     False          False      False   \n",
       "28  False        False       False     False          False      False   \n",
       "29  False        False       False     False          False      False   \n",
       "30  False        False       False     False          False      False   \n",
       "31  False         True       False     False          False      False   \n",
       "32  False        False       False     False          False      False   \n",
       "33  False        False       False     False          False      False   \n",
       "34  False        False       False     False          False      False   \n",
       "35  False        False       False     False          False      False   \n",
       "36  False        False       False     False          False      False   \n",
       "37  False        False       False     False          False      False   \n",
       "38  False        False       False     False          False      False   \n",
       "39  False        False       False     False          False      False   \n",
       "40  False        False       False     False          False      False   \n",
       "41  False        False       False     False          False      False   \n",
       "42  False         True       False     False          False      False   \n",
       "\n",
       "    2ndFlrSF  \n",
       "0      False  \n",
       "1      False  \n",
       "2      False  \n",
       "3      False  \n",
       "4      False  \n",
       "5      False  \n",
       "6      False  \n",
       "7      False  \n",
       "8      False  \n",
       "9      False  \n",
       "10     False  \n",
       "11     False  \n",
       "12     False  \n",
       "13     False  \n",
       "14     False  \n",
       "15     False  \n",
       "16     False  \n",
       "17     False  \n",
       "18     False  \n",
       "19     False  \n",
       "20     False  \n",
       "21     False  \n",
       "22     False  \n",
       "23     False  \n",
       "24     False  \n",
       "25     False  \n",
       "26     False  \n",
       "27     False  \n",
       "28     False  \n",
       "29     False  \n",
       "30     False  \n",
       "31     False  \n",
       "32     False  \n",
       "33     False  \n",
       "34     False  \n",
       "35     False  \n",
       "36     False  \n",
       "37     False  \n",
       "38     False  \n",
       "39     False  \n",
       "40     False  \n",
       "41     False  \n",
       "42     False  "
      ]
     },
     "execution_count": 20,
     "metadata": {},
     "output_type": "execute_result"
    }
   ],
   "source": [
    "# Drop all records with missing data\n",
    "#boston.isnull().tail()\n",
    "# boston.isnull().sum()\n",
    "# boston.isnull().sum().sum()\n",
    "#boston.tail()\n",
    "#boston.dropna().tail()\n",
    "#boston.dropna().isnull().sum()\n",
    "boston.isna()"
   ]
  },
  {
   "cell_type": "code",
   "execution_count": 21,
   "metadata": {},
   "outputs": [
    {
     "data": {
      "text/plain": [
       "Id               0\n",
       "LotFrontage      7\n",
       "CentralAir       0\n",
       "1stFlrSF         0\n",
       "SaleCondition    0\n",
       "SalePrice        0\n",
       "2ndFlrSF         0\n",
       "dtype: int64"
      ]
     },
     "execution_count": 21,
     "metadata": {},
     "output_type": "execute_result"
    }
   ],
   "source": [
    "boston.isna().sum()"
   ]
  },
  {
   "cell_type": "code",
   "execution_count": 22,
   "metadata": {},
   "outputs": [
    {
     "data": {
      "text/plain": [
       "7"
      ]
     },
     "execution_count": 22,
     "metadata": {},
     "output_type": "execute_result"
    }
   ],
   "source": [
    "boston.isna().sum().sum()"
   ]
  },
  {
   "cell_type": "code",
   "execution_count": 23,
   "metadata": {},
   "outputs": [],
   "source": [
    "#boston.fillna(0) # will fill in na values with 0"
   ]
  },
  {
   "cell_type": "code",
   "execution_count": 24,
   "metadata": {},
   "outputs": [
    {
     "name": "stdout",
     "output_type": "stream",
     "text": [
      "<class 'pandas.core.frame.DataFrame'>\n",
      "Int64Index: 43 entries, 0 to 42\n",
      "Data columns (total 7 columns):\n",
      "Id               43 non-null int64\n",
      "LotFrontage      36 non-null float64\n",
      "CentralAir       43 non-null object\n",
      "1stFlrSF         43 non-null int64\n",
      "SaleCondition    43 non-null object\n",
      "SalePrice        43 non-null int64\n",
      "2ndFlrSF         43 non-null int64\n",
      "dtypes: float64(1), int64(4), object(2)\n",
      "memory usage: 2.7+ KB\n"
     ]
    }
   ],
   "source": [
    "boston.info()"
   ]
  },
  {
   "cell_type": "code",
   "execution_count": null,
   "metadata": {},
   "outputs": [],
   "source": []
  },
  {
   "cell_type": "code",
   "execution_count": 25,
   "metadata": {
    "slideshow": {
     "slide_type": "slide"
    }
   },
   "outputs": [
    {
     "data": {
      "text/html": [
       "<div>\n",
       "<style scoped>\n",
       "    .dataframe tbody tr th:only-of-type {\n",
       "        vertical-align: middle;\n",
       "    }\n",
       "\n",
       "    .dataframe tbody tr th {\n",
       "        vertical-align: top;\n",
       "    }\n",
       "\n",
       "    .dataframe thead th {\n",
       "        text-align: right;\n",
       "    }\n",
       "</style>\n",
       "<table border=\"1\" class=\"dataframe\">\n",
       "  <thead>\n",
       "    <tr style=\"text-align: right;\">\n",
       "      <th></th>\n",
       "      <th>Id</th>\n",
       "      <th>LotFrontage</th>\n",
       "      <th>CentralAir</th>\n",
       "      <th>1stFlrSF</th>\n",
       "      <th>SaleCondition</th>\n",
       "      <th>SalePrice</th>\n",
       "      <th>2ndFlrSF</th>\n",
       "    </tr>\n",
       "  </thead>\n",
       "  <tbody>\n",
       "    <tr>\n",
       "      <th>38</th>\n",
       "      <td>39</td>\n",
       "      <td>68</td>\n",
       "      <td>Y</td>\n",
       "      <td>1057</td>\n",
       "      <td>Abnorml</td>\n",
       "      <td>109000</td>\n",
       "      <td>0</td>\n",
       "    </tr>\n",
       "    <tr>\n",
       "      <th>39</th>\n",
       "      <td>40</td>\n",
       "      <td>65</td>\n",
       "      <td>N</td>\n",
       "      <td>1152</td>\n",
       "      <td>AdjLand</td>\n",
       "      <td>82000</td>\n",
       "      <td>0</td>\n",
       "    </tr>\n",
       "    <tr>\n",
       "      <th>40</th>\n",
       "      <td>41</td>\n",
       "      <td>84</td>\n",
       "      <td>Y</td>\n",
       "      <td>1324</td>\n",
       "      <td>Abnorml</td>\n",
       "      <td>160000</td>\n",
       "      <td>0</td>\n",
       "    </tr>\n",
       "    <tr>\n",
       "      <th>41</th>\n",
       "      <td>42</td>\n",
       "      <td>115</td>\n",
       "      <td>Y</td>\n",
       "      <td>1328</td>\n",
       "      <td>Normal</td>\n",
       "      <td>170000</td>\n",
       "      <td>0</td>\n",
       "    </tr>\n",
       "    <tr>\n",
       "      <th>42</th>\n",
       "      <td>43</td>\n",
       "      <td>Value2!</td>\n",
       "      <td>Y</td>\n",
       "      <td>884</td>\n",
       "      <td>Normal</td>\n",
       "      <td>144000</td>\n",
       "      <td>0</td>\n",
       "    </tr>\n",
       "  </tbody>\n",
       "</table>\n",
       "</div>"
      ],
      "text/plain": [
       "    Id LotFrontage CentralAir  1stFlrSF SaleCondition  SalePrice  2ndFlrSF\n",
       "38  39          68          Y      1057       Abnorml     109000         0\n",
       "39  40          65          N      1152       AdjLand      82000         0\n",
       "40  41          84          Y      1324       Abnorml     160000         0\n",
       "41  42         115          Y      1328        Normal     170000         0\n",
       "42  43     Value2!          Y       884        Normal     144000         0"
      ]
     },
     "execution_count": 25,
     "metadata": {},
     "output_type": "execute_result"
    }
   ],
   "source": [
    "# Substitute missing values\n",
    "# boston.fillna(\"Value!\").tail()\n",
    "boston.fillna({\"2ndFlrSF\": \"Value1!\", \"LotFrontage\": \"Value2!\"}).tail()"
   ]
  },
  {
   "cell_type": "code",
   "execution_count": 26,
   "metadata": {},
   "outputs": [
    {
     "data": {
      "text/plain": [
       "<matplotlib.axes._subplots.AxesSubplot at 0x1a226c4780>"
      ]
     },
     "execution_count": 26,
     "metadata": {},
     "output_type": "execute_result"
    }
   ],
   "source": [
    "boston.LotFrontage.hist()"
   ]
  },
  {
   "cell_type": "code",
   "execution_count": 27,
   "metadata": {},
   "outputs": [],
   "source": [
    "#boston.dropna(axis=0).LotFontage.hist()"
   ]
  },
  {
   "cell_type": "code",
   "execution_count": 28,
   "metadata": {},
   "outputs": [],
   "source": [
    "#boston.LotFrontage.fillna(boston.LotFrontage.median()).hist()"
   ]
  },
  {
   "cell_type": "code",
   "execution_count": 29,
   "metadata": {},
   "outputs": [
    {
     "data": {
      "text/html": [
       "<div>\n",
       "<style scoped>\n",
       "    .dataframe tbody tr th:only-of-type {\n",
       "        vertical-align: middle;\n",
       "    }\n",
       "\n",
       "    .dataframe tbody tr th {\n",
       "        vertical-align: top;\n",
       "    }\n",
       "\n",
       "    .dataframe thead th {\n",
       "        text-align: right;\n",
       "    }\n",
       "</style>\n",
       "<table border=\"1\" class=\"dataframe\">\n",
       "  <thead>\n",
       "    <tr style=\"text-align: right;\">\n",
       "      <th></th>\n",
       "      <th>Id</th>\n",
       "      <th>LotFrontage</th>\n",
       "      <th>CentralAir</th>\n",
       "      <th>1stFlrSF</th>\n",
       "      <th>SaleCondition</th>\n",
       "      <th>SalePrice</th>\n",
       "      <th>2ndFlrSF</th>\n",
       "    </tr>\n",
       "  </thead>\n",
       "  <tbody>\n",
       "    <tr>\n",
       "      <th>0</th>\n",
       "      <td>1</td>\n",
       "      <td>65.0</td>\n",
       "      <td>Y</td>\n",
       "      <td>856</td>\n",
       "      <td>Normal</td>\n",
       "      <td>208500</td>\n",
       "      <td>854</td>\n",
       "    </tr>\n",
       "    <tr>\n",
       "      <th>1</th>\n",
       "      <td>2</td>\n",
       "      <td>80.0</td>\n",
       "      <td>Y</td>\n",
       "      <td>1262</td>\n",
       "      <td>Normal</td>\n",
       "      <td>181500</td>\n",
       "      <td>0</td>\n",
       "    </tr>\n",
       "    <tr>\n",
       "      <th>2</th>\n",
       "      <td>3</td>\n",
       "      <td>68.0</td>\n",
       "      <td>Y</td>\n",
       "      <td>920</td>\n",
       "      <td>Normal</td>\n",
       "      <td>223500</td>\n",
       "      <td>866</td>\n",
       "    </tr>\n",
       "    <tr>\n",
       "      <th>3</th>\n",
       "      <td>4</td>\n",
       "      <td>60.0</td>\n",
       "      <td>Y</td>\n",
       "      <td>961</td>\n",
       "      <td>Abnorml</td>\n",
       "      <td>140000</td>\n",
       "      <td>756</td>\n",
       "    </tr>\n",
       "    <tr>\n",
       "      <th>4</th>\n",
       "      <td>5</td>\n",
       "      <td>84.0</td>\n",
       "      <td>Y</td>\n",
       "      <td>1145</td>\n",
       "      <td>Normal</td>\n",
       "      <td>250000</td>\n",
       "      <td>1053</td>\n",
       "    </tr>\n",
       "    <tr>\n",
       "      <th>5</th>\n",
       "      <td>6</td>\n",
       "      <td>85.0</td>\n",
       "      <td>Y</td>\n",
       "      <td>796</td>\n",
       "      <td>Normal</td>\n",
       "      <td>143000</td>\n",
       "      <td>566</td>\n",
       "    </tr>\n",
       "    <tr>\n",
       "      <th>6</th>\n",
       "      <td>7</td>\n",
       "      <td>75.0</td>\n",
       "      <td>Y</td>\n",
       "      <td>1694</td>\n",
       "      <td>Normal</td>\n",
       "      <td>307000</td>\n",
       "      <td>0</td>\n",
       "    </tr>\n",
       "    <tr>\n",
       "      <th>8</th>\n",
       "      <td>9</td>\n",
       "      <td>51.0</td>\n",
       "      <td>Y</td>\n",
       "      <td>1022</td>\n",
       "      <td>Abnorml</td>\n",
       "      <td>129900</td>\n",
       "      <td>752</td>\n",
       "    </tr>\n",
       "    <tr>\n",
       "      <th>9</th>\n",
       "      <td>10</td>\n",
       "      <td>50.0</td>\n",
       "      <td>Y</td>\n",
       "      <td>1077</td>\n",
       "      <td>Normal</td>\n",
       "      <td>118000</td>\n",
       "      <td>0</td>\n",
       "    </tr>\n",
       "    <tr>\n",
       "      <th>10</th>\n",
       "      <td>11</td>\n",
       "      <td>70.0</td>\n",
       "      <td>Y</td>\n",
       "      <td>1040</td>\n",
       "      <td>Normal</td>\n",
       "      <td>129500</td>\n",
       "      <td>0</td>\n",
       "    </tr>\n",
       "    <tr>\n",
       "      <th>11</th>\n",
       "      <td>12</td>\n",
       "      <td>85.0</td>\n",
       "      <td>Y</td>\n",
       "      <td>1182</td>\n",
       "      <td>Partial</td>\n",
       "      <td>345000</td>\n",
       "      <td>1142</td>\n",
       "    </tr>\n",
       "    <tr>\n",
       "      <th>13</th>\n",
       "      <td>14</td>\n",
       "      <td>91.0</td>\n",
       "      <td>Y</td>\n",
       "      <td>1494</td>\n",
       "      <td>Partial</td>\n",
       "      <td>279500</td>\n",
       "      <td>0</td>\n",
       "    </tr>\n",
       "    <tr>\n",
       "      <th>15</th>\n",
       "      <td>16</td>\n",
       "      <td>51.0</td>\n",
       "      <td>Y</td>\n",
       "      <td>854</td>\n",
       "      <td>Normal</td>\n",
       "      <td>132000</td>\n",
       "      <td>0</td>\n",
       "    </tr>\n",
       "    <tr>\n",
       "      <th>17</th>\n",
       "      <td>18</td>\n",
       "      <td>72.0</td>\n",
       "      <td>Y</td>\n",
       "      <td>1296</td>\n",
       "      <td>Normal</td>\n",
       "      <td>90000</td>\n",
       "      <td>0</td>\n",
       "    </tr>\n",
       "    <tr>\n",
       "      <th>18</th>\n",
       "      <td>19</td>\n",
       "      <td>66.0</td>\n",
       "      <td>Y</td>\n",
       "      <td>1114</td>\n",
       "      <td>Normal</td>\n",
       "      <td>159000</td>\n",
       "      <td>0</td>\n",
       "    </tr>\n",
       "    <tr>\n",
       "      <th>19</th>\n",
       "      <td>20</td>\n",
       "      <td>70.0</td>\n",
       "      <td>Y</td>\n",
       "      <td>1339</td>\n",
       "      <td>Abnorml</td>\n",
       "      <td>139000</td>\n",
       "      <td>0</td>\n",
       "    </tr>\n",
       "    <tr>\n",
       "      <th>20</th>\n",
       "      <td>21</td>\n",
       "      <td>101.0</td>\n",
       "      <td>Y</td>\n",
       "      <td>1158</td>\n",
       "      <td>Partial</td>\n",
       "      <td>325300</td>\n",
       "      <td>1218</td>\n",
       "    </tr>\n",
       "    <tr>\n",
       "      <th>21</th>\n",
       "      <td>22</td>\n",
       "      <td>57.0</td>\n",
       "      <td>Y</td>\n",
       "      <td>1108</td>\n",
       "      <td>Normal</td>\n",
       "      <td>139400</td>\n",
       "      <td>0</td>\n",
       "    </tr>\n",
       "    <tr>\n",
       "      <th>22</th>\n",
       "      <td>23</td>\n",
       "      <td>75.0</td>\n",
       "      <td>Y</td>\n",
       "      <td>1795</td>\n",
       "      <td>Normal</td>\n",
       "      <td>230000</td>\n",
       "      <td>0</td>\n",
       "    </tr>\n",
       "    <tr>\n",
       "      <th>23</th>\n",
       "      <td>24</td>\n",
       "      <td>44.0</td>\n",
       "      <td>Y</td>\n",
       "      <td>1060</td>\n",
       "      <td>Normal</td>\n",
       "      <td>129900</td>\n",
       "      <td>0</td>\n",
       "    </tr>\n",
       "    <tr>\n",
       "      <th>25</th>\n",
       "      <td>26</td>\n",
       "      <td>110.0</td>\n",
       "      <td>Y</td>\n",
       "      <td>1600</td>\n",
       "      <td>Normal</td>\n",
       "      <td>256300</td>\n",
       "      <td>0</td>\n",
       "    </tr>\n",
       "    <tr>\n",
       "      <th>26</th>\n",
       "      <td>27</td>\n",
       "      <td>60.0</td>\n",
       "      <td>Y</td>\n",
       "      <td>900</td>\n",
       "      <td>Normal</td>\n",
       "      <td>134800</td>\n",
       "      <td>0</td>\n",
       "    </tr>\n",
       "    <tr>\n",
       "      <th>27</th>\n",
       "      <td>28</td>\n",
       "      <td>98.0</td>\n",
       "      <td>Y</td>\n",
       "      <td>1704</td>\n",
       "      <td>Normal</td>\n",
       "      <td>306000</td>\n",
       "      <td>0</td>\n",
       "    </tr>\n",
       "    <tr>\n",
       "      <th>28</th>\n",
       "      <td>29</td>\n",
       "      <td>47.0</td>\n",
       "      <td>Y</td>\n",
       "      <td>1600</td>\n",
       "      <td>Normal</td>\n",
       "      <td>207500</td>\n",
       "      <td>0</td>\n",
       "    </tr>\n",
       "    <tr>\n",
       "      <th>29</th>\n",
       "      <td>30</td>\n",
       "      <td>60.0</td>\n",
       "      <td>N</td>\n",
       "      <td>520</td>\n",
       "      <td>Normal</td>\n",
       "      <td>68500</td>\n",
       "      <td>0</td>\n",
       "    </tr>\n",
       "    <tr>\n",
       "      <th>30</th>\n",
       "      <td>31</td>\n",
       "      <td>50.0</td>\n",
       "      <td>N</td>\n",
       "      <td>649</td>\n",
       "      <td>Normal</td>\n",
       "      <td>40000</td>\n",
       "      <td>668</td>\n",
       "    </tr>\n",
       "    <tr>\n",
       "      <th>32</th>\n",
       "      <td>33</td>\n",
       "      <td>85.0</td>\n",
       "      <td>Y</td>\n",
       "      <td>1234</td>\n",
       "      <td>Normal</td>\n",
       "      <td>179900</td>\n",
       "      <td>0</td>\n",
       "    </tr>\n",
       "    <tr>\n",
       "      <th>33</th>\n",
       "      <td>34</td>\n",
       "      <td>70.0</td>\n",
       "      <td>Y</td>\n",
       "      <td>1700</td>\n",
       "      <td>Normal</td>\n",
       "      <td>165500</td>\n",
       "      <td>0</td>\n",
       "    </tr>\n",
       "    <tr>\n",
       "      <th>34</th>\n",
       "      <td>35</td>\n",
       "      <td>60.0</td>\n",
       "      <td>Y</td>\n",
       "      <td>1561</td>\n",
       "      <td>Normal</td>\n",
       "      <td>277500</td>\n",
       "      <td>0</td>\n",
       "    </tr>\n",
       "    <tr>\n",
       "      <th>35</th>\n",
       "      <td>36</td>\n",
       "      <td>108.0</td>\n",
       "      <td>Y</td>\n",
       "      <td>1132</td>\n",
       "      <td>Normal</td>\n",
       "      <td>309000</td>\n",
       "      <td>1320</td>\n",
       "    </tr>\n",
       "    <tr>\n",
       "      <th>36</th>\n",
       "      <td>37</td>\n",
       "      <td>112.0</td>\n",
       "      <td>Y</td>\n",
       "      <td>1097</td>\n",
       "      <td>Normal</td>\n",
       "      <td>145000</td>\n",
       "      <td>0</td>\n",
       "    </tr>\n",
       "    <tr>\n",
       "      <th>37</th>\n",
       "      <td>38</td>\n",
       "      <td>74.0</td>\n",
       "      <td>Y</td>\n",
       "      <td>1297</td>\n",
       "      <td>Normal</td>\n",
       "      <td>153000</td>\n",
       "      <td>0</td>\n",
       "    </tr>\n",
       "    <tr>\n",
       "      <th>38</th>\n",
       "      <td>39</td>\n",
       "      <td>68.0</td>\n",
       "      <td>Y</td>\n",
       "      <td>1057</td>\n",
       "      <td>Abnorml</td>\n",
       "      <td>109000</td>\n",
       "      <td>0</td>\n",
       "    </tr>\n",
       "    <tr>\n",
       "      <th>39</th>\n",
       "      <td>40</td>\n",
       "      <td>65.0</td>\n",
       "      <td>N</td>\n",
       "      <td>1152</td>\n",
       "      <td>AdjLand</td>\n",
       "      <td>82000</td>\n",
       "      <td>0</td>\n",
       "    </tr>\n",
       "    <tr>\n",
       "      <th>40</th>\n",
       "      <td>41</td>\n",
       "      <td>84.0</td>\n",
       "      <td>Y</td>\n",
       "      <td>1324</td>\n",
       "      <td>Abnorml</td>\n",
       "      <td>160000</td>\n",
       "      <td>0</td>\n",
       "    </tr>\n",
       "    <tr>\n",
       "      <th>41</th>\n",
       "      <td>42</td>\n",
       "      <td>115.0</td>\n",
       "      <td>Y</td>\n",
       "      <td>1328</td>\n",
       "      <td>Normal</td>\n",
       "      <td>170000</td>\n",
       "      <td>0</td>\n",
       "    </tr>\n",
       "  </tbody>\n",
       "</table>\n",
       "</div>"
      ],
      "text/plain": [
       "    Id  LotFrontage CentralAir  1stFlrSF SaleCondition  SalePrice  2ndFlrSF\n",
       "0    1         65.0          Y       856        Normal     208500       854\n",
       "1    2         80.0          Y      1262        Normal     181500         0\n",
       "2    3         68.0          Y       920        Normal     223500       866\n",
       "3    4         60.0          Y       961       Abnorml     140000       756\n",
       "4    5         84.0          Y      1145        Normal     250000      1053\n",
       "5    6         85.0          Y       796        Normal     143000       566\n",
       "6    7         75.0          Y      1694        Normal     307000         0\n",
       "8    9         51.0          Y      1022       Abnorml     129900       752\n",
       "9   10         50.0          Y      1077        Normal     118000         0\n",
       "10  11         70.0          Y      1040        Normal     129500         0\n",
       "11  12         85.0          Y      1182       Partial     345000      1142\n",
       "13  14         91.0          Y      1494       Partial     279500         0\n",
       "15  16         51.0          Y       854        Normal     132000         0\n",
       "17  18         72.0          Y      1296        Normal      90000         0\n",
       "18  19         66.0          Y      1114        Normal     159000         0\n",
       "19  20         70.0          Y      1339       Abnorml     139000         0\n",
       "20  21        101.0          Y      1158       Partial     325300      1218\n",
       "21  22         57.0          Y      1108        Normal     139400         0\n",
       "22  23         75.0          Y      1795        Normal     230000         0\n",
       "23  24         44.0          Y      1060        Normal     129900         0\n",
       "25  26        110.0          Y      1600        Normal     256300         0\n",
       "26  27         60.0          Y       900        Normal     134800         0\n",
       "27  28         98.0          Y      1704        Normal     306000         0\n",
       "28  29         47.0          Y      1600        Normal     207500         0\n",
       "29  30         60.0          N       520        Normal      68500         0\n",
       "30  31         50.0          N       649        Normal      40000       668\n",
       "32  33         85.0          Y      1234        Normal     179900         0\n",
       "33  34         70.0          Y      1700        Normal     165500         0\n",
       "34  35         60.0          Y      1561        Normal     277500         0\n",
       "35  36        108.0          Y      1132        Normal     309000      1320\n",
       "36  37        112.0          Y      1097        Normal     145000         0\n",
       "37  38         74.0          Y      1297        Normal     153000         0\n",
       "38  39         68.0          Y      1057       Abnorml     109000         0\n",
       "39  40         65.0          N      1152       AdjLand      82000         0\n",
       "40  41         84.0          Y      1324       Abnorml     160000         0\n",
       "41  42        115.0          Y      1328        Normal     170000         0"
      ]
     },
     "execution_count": 29,
     "metadata": {},
     "output_type": "execute_result"
    }
   ],
   "source": [
    "boston.loc[~boston.LotFrontage.isna()] # looks at ones that are NOT na"
   ]
  },
  {
   "cell_type": "code",
   "execution_count": 30,
   "metadata": {},
   "outputs": [
    {
     "data": {
      "text/plain": [
       "0    60.0\n",
       "dtype: float64"
      ]
     },
     "execution_count": 30,
     "metadata": {},
     "output_type": "execute_result"
    }
   ],
   "source": [
    "boston.LotFrontage.mode()"
   ]
  },
  {
   "cell_type": "code",
   "execution_count": 31,
   "metadata": {},
   "outputs": [
    {
     "data": {
      "text/html": [
       "<div>\n",
       "<style scoped>\n",
       "    .dataframe tbody tr th:only-of-type {\n",
       "        vertical-align: middle;\n",
       "    }\n",
       "\n",
       "    .dataframe tbody tr th {\n",
       "        vertical-align: top;\n",
       "    }\n",
       "\n",
       "    .dataframe thead th {\n",
       "        text-align: right;\n",
       "    }\n",
       "</style>\n",
       "<table border=\"1\" class=\"dataframe\">\n",
       "  <thead>\n",
       "    <tr style=\"text-align: right;\">\n",
       "      <th></th>\n",
       "      <th>Id</th>\n",
       "      <th>LotFrontage</th>\n",
       "      <th>1stFlrSF</th>\n",
       "      <th>SalePrice</th>\n",
       "      <th>2ndFlrSF</th>\n",
       "    </tr>\n",
       "  </thead>\n",
       "  <tbody>\n",
       "    <tr>\n",
       "      <th>Id</th>\n",
       "      <td>1.000000</td>\n",
       "      <td>0.224077</td>\n",
       "      <td>0.171229</td>\n",
       "      <td>-0.174639</td>\n",
       "      <td>-0.386726</td>\n",
       "    </tr>\n",
       "    <tr>\n",
       "      <th>LotFrontage</th>\n",
       "      <td>0.224077</td>\n",
       "      <td>1.000000</td>\n",
       "      <td>0.325814</td>\n",
       "      <td>0.524534</td>\n",
       "      <td>0.168788</td>\n",
       "    </tr>\n",
       "    <tr>\n",
       "      <th>1stFlrSF</th>\n",
       "      <td>0.171229</td>\n",
       "      <td>0.325814</td>\n",
       "      <td>1.000000</td>\n",
       "      <td>0.548817</td>\n",
       "      <td>-0.290534</td>\n",
       "    </tr>\n",
       "    <tr>\n",
       "      <th>SalePrice</th>\n",
       "      <td>-0.174639</td>\n",
       "      <td>0.524534</td>\n",
       "      <td>0.548817</td>\n",
       "      <td>1.000000</td>\n",
       "      <td>0.409321</td>\n",
       "    </tr>\n",
       "    <tr>\n",
       "      <th>2ndFlrSF</th>\n",
       "      <td>-0.386726</td>\n",
       "      <td>0.168788</td>\n",
       "      <td>-0.290534</td>\n",
       "      <td>0.409321</td>\n",
       "      <td>1.000000</td>\n",
       "    </tr>\n",
       "  </tbody>\n",
       "</table>\n",
       "</div>"
      ],
      "text/plain": [
       "                   Id  LotFrontage  1stFlrSF  SalePrice  2ndFlrSF\n",
       "Id           1.000000     0.224077  0.171229  -0.174639 -0.386726\n",
       "LotFrontage  0.224077     1.000000  0.325814   0.524534  0.168788\n",
       "1stFlrSF     0.171229     0.325814  1.000000   0.548817 -0.290534\n",
       "SalePrice   -0.174639     0.524534  0.548817   1.000000  0.409321\n",
       "2ndFlrSF    -0.386726     0.168788 -0.290534   0.409321  1.000000"
      ]
     },
     "execution_count": 31,
     "metadata": {},
     "output_type": "execute_result"
    }
   ],
   "source": [
    "boston.corr()"
   ]
  },
  {
   "cell_type": "code",
   "execution_count": 61,
   "metadata": {
    "slideshow": {
     "slide_type": "slide"
    }
   },
   "outputs": [
    {
     "name": "stdout",
     "output_type": "stream",
     "text": [
      "Id                 22.000000\n",
      "LotFrontage        74.055556\n",
      "1stFlrSF         1173.860465\n",
      "SalePrice      178170.930233\n",
      "2ndFlrSF          236.697674\n",
      "dtype: float64\n"
     ]
    }
   ],
   "source": [
    "# Substitute missing values with mean\n",
    "print(boston.mean())\n",
    "#boston.fillna(boston.mean()).tail()\n",
    "#boston.fillna(boston.median()).tail()"
   ]
  },
  {
   "cell_type": "code",
   "execution_count": 62,
   "metadata": {
    "slideshow": {
     "slide_type": "slide"
    }
   },
   "outputs": [
    {
     "data": {
      "text/html": [
       "<div>\n",
       "<style scoped>\n",
       "    .dataframe tbody tr th:only-of-type {\n",
       "        vertical-align: middle;\n",
       "    }\n",
       "\n",
       "    .dataframe tbody tr th {\n",
       "        vertical-align: top;\n",
       "    }\n",
       "\n",
       "    .dataframe thead th {\n",
       "        text-align: right;\n",
       "    }\n",
       "</style>\n",
       "<table border=\"1\" class=\"dataframe\">\n",
       "  <thead>\n",
       "    <tr style=\"text-align: right;\">\n",
       "      <th></th>\n",
       "      <th>Id</th>\n",
       "      <th>LotFrontage</th>\n",
       "      <th>CentralAir</th>\n",
       "      <th>1stFlrSF</th>\n",
       "      <th>SaleCondition</th>\n",
       "      <th>SalePrice</th>\n",
       "      <th>2ndFlrSF</th>\n",
       "    </tr>\n",
       "  </thead>\n",
       "  <tbody>\n",
       "    <tr>\n",
       "      <th>38</th>\n",
       "      <td>39</td>\n",
       "      <td>68.000000</td>\n",
       "      <td>Y</td>\n",
       "      <td>1057</td>\n",
       "      <td>Abnorml</td>\n",
       "      <td>109000</td>\n",
       "      <td>0</td>\n",
       "    </tr>\n",
       "    <tr>\n",
       "      <th>39</th>\n",
       "      <td>40</td>\n",
       "      <td>65.000000</td>\n",
       "      <td>N</td>\n",
       "      <td>1152</td>\n",
       "      <td>AdjLand</td>\n",
       "      <td>82000</td>\n",
       "      <td>0</td>\n",
       "    </tr>\n",
       "    <tr>\n",
       "      <th>40</th>\n",
       "      <td>41</td>\n",
       "      <td>84.000000</td>\n",
       "      <td>Y</td>\n",
       "      <td>1324</td>\n",
       "      <td>Abnorml</td>\n",
       "      <td>160000</td>\n",
       "      <td>0</td>\n",
       "    </tr>\n",
       "    <tr>\n",
       "      <th>41</th>\n",
       "      <td>42</td>\n",
       "      <td>115.000000</td>\n",
       "      <td>Y</td>\n",
       "      <td>1328</td>\n",
       "      <td>Normal</td>\n",
       "      <td>170000</td>\n",
       "      <td>0</td>\n",
       "    </tr>\n",
       "    <tr>\n",
       "      <th>42</th>\n",
       "      <td>43</td>\n",
       "      <td>74.055556</td>\n",
       "      <td>Y</td>\n",
       "      <td>884</td>\n",
       "      <td>Normal</td>\n",
       "      <td>144000</td>\n",
       "      <td>0</td>\n",
       "    </tr>\n",
       "  </tbody>\n",
       "</table>\n",
       "</div>"
      ],
      "text/plain": [
       "    Id  LotFrontage CentralAir  1stFlrSF SaleCondition  SalePrice  2ndFlrSF\n",
       "38  39    68.000000          Y      1057       Abnorml     109000         0\n",
       "39  40    65.000000          N      1152       AdjLand      82000         0\n",
       "40  41    84.000000          Y      1324       Abnorml     160000         0\n",
       "41  42   115.000000          Y      1328        Normal     170000         0\n",
       "42  43    74.055556          Y       884        Normal     144000         0"
      ]
     },
     "execution_count": 62,
     "metadata": {},
     "output_type": "execute_result"
    }
   ],
   "source": [
    "# Add column indicating missing values\n",
    "boston[\"2ndFlrSF\"].isnull()\n",
    "#boston[\"missing_second_floor\"] = boston[\"2ndFlrSF\"].isnull()\n",
    "# boston.tail()\n",
    "boston = boston.fillna(boston.mean())\n",
    "boston.tail()"
   ]
  },
  {
   "cell_type": "code",
   "execution_count": 81,
   "metadata": {},
   "outputs": [
    {
     "data": {
      "image/png": "[encoded data removed]",
      "text/plain": [
       "<Figure size 1678.25x1620 with 90 Axes>"
      ]
     },
     "metadata": {
      "needs_background": "light"
     },
     "output_type": "display_data"
    }
   ],
   "source": [
    "import seaborn as sns\n",
    "sns.pairplot(boston, hue=\"CentralAir\");"
   ]
  },
  {
   "cell_type": "code",
   "execution_count": 83,
   "metadata": {},
   "outputs": [
    {
     "data": {
      "image/png": "[encoded data removed]",
      "text/plain": [
       "<Figure size 432x288 with 81 Axes>"
      ]
     },
     "metadata": {
      "needs_background": "light"
     },
     "output_type": "display_data"
    }
   ],
   "source": [
    "pd.plotting.scatter_matrix(boston);"
   ]
  },
  {
   "cell_type": "code",
   "execution_count": null,
   "metadata": {},
   "outputs": [],
   "source": [
    "\n"
   ]
  },
  {
   "cell_type": "code",
   "execution_count": 32,
   "metadata": {},
   "outputs": [],
   "source": [
    "# You may need to upgrade Scikit-learn (and restart Jupyter kernel afterwards) to use Imputer\n",
    "# !pip install scikit-learn --upgrade"
   ]
  },
  {
   "cell_type": "code",
   "execution_count": 33,
   "metadata": {},
   "outputs": [
    {
     "data": {
      "text/plain": [
       "array([[ 65.        ],\n",
       "       [ 80.        ],\n",
       "       [ 68.        ],\n",
       "       [ 60.        ],\n",
       "       [ 84.        ],\n",
       "       [ 85.        ],\n",
       "       [ 75.        ],\n",
       "       [ 74.05555556],\n",
       "       [ 51.        ],\n",
       "       [ 50.        ],\n",
       "       [ 70.        ],\n",
       "       [ 85.        ],\n",
       "       [ 74.05555556],\n",
       "       [ 91.        ],\n",
       "       [ 74.05555556],\n",
       "       [ 51.        ],\n",
       "       [ 74.05555556],\n",
       "       [ 72.        ],\n",
       "       [ 66.        ],\n",
       "       [ 70.        ],\n",
       "       [101.        ],\n",
       "       [ 57.        ],\n",
       "       [ 75.        ],\n",
       "       [ 44.        ],\n",
       "       [ 74.05555556],\n",
       "       [110.        ],\n",
       "       [ 60.        ],\n",
       "       [ 98.        ],\n",
       "       [ 47.        ],\n",
       "       [ 60.        ],\n",
       "       [ 50.        ],\n",
       "       [ 74.05555556],\n",
       "       [ 85.        ],\n",
       "       [ 70.        ],\n",
       "       [ 60.        ],\n",
       "       [108.        ],\n",
       "       [112.        ],\n",
       "       [ 74.        ],\n",
       "       [ 68.        ],\n",
       "       [ 65.        ],\n",
       "       [ 84.        ],\n",
       "       [115.        ],\n",
       "       [ 74.05555556]])"
      ]
     },
     "execution_count": 33,
     "metadata": {},
     "output_type": "execute_result"
    }
   ],
   "source": [
    "# Imputation is a general technique for \"guessing\" appropriate missing values\n",
    "# It could be implemented as a complex ML regression algorithm or a simple 'take an average' strategy.\n",
    "from sklearn.impute import SimpleImputer\n",
    "\n",
    "imputer = SimpleImputer(strategy='mean')\n",
    "imputer.fit_transform(boston[[\"LotFrontage\"]])"
   ]
  },
  {
   "cell_type": "code",
   "execution_count": 34,
   "metadata": {},
   "outputs": [
    {
     "data": {
      "text/plain": [
       "array([[ 65.],\n",
       "       [ 80.],\n",
       "       [ 68.],\n",
       "       [ 60.],\n",
       "       [ 84.],\n",
       "       [ 85.],\n",
       "       [ 75.],\n",
       "       [ 60.],\n",
       "       [ 51.],\n",
       "       [ 50.],\n",
       "       [ 70.],\n",
       "       [ 85.],\n",
       "       [ 60.],\n",
       "       [ 91.],\n",
       "       [ 60.],\n",
       "       [ 51.],\n",
       "       [ 60.],\n",
       "       [ 72.],\n",
       "       [ 66.],\n",
       "       [ 70.],\n",
       "       [101.],\n",
       "       [ 57.],\n",
       "       [ 75.],\n",
       "       [ 44.],\n",
       "       [ 60.],\n",
       "       [110.],\n",
       "       [ 60.],\n",
       "       [ 98.],\n",
       "       [ 47.],\n",
       "       [ 60.],\n",
       "       [ 50.],\n",
       "       [ 60.],\n",
       "       [ 85.],\n",
       "       [ 70.],\n",
       "       [ 60.],\n",
       "       [108.],\n",
       "       [112.],\n",
       "       [ 74.],\n",
       "       [ 68.],\n",
       "       [ 65.],\n",
       "       [ 84.],\n",
       "       [115.],\n",
       "       [ 60.]])"
      ]
     },
     "execution_count": 34,
     "metadata": {},
     "output_type": "execute_result"
    }
   ],
   "source": [
    "imputer = SimpleImputer(strategy='most_frequent')\n",
    "imputer.fit_transform(boston[[\"LotFrontage\"]])"
   ]
  },
  {
   "cell_type": "markdown",
   "metadata": {
    "slideshow": {
     "slide_type": "slide"
    }
   },
   "source": [
    "## How to decide how to treat missing data?\n",
    "* Very data-dependent!\n",
    "* Decisions need to be justified and documented\n",
    "* Implement missing data preprocessing in a reproducible way (python script)\n",
    "* Don't create data from nothing\n",
    "* Iris example"
   ]
  },
  {
   "cell_type": "markdown",
   "metadata": {
    "slideshow": {
     "slide_type": "slide"
    }
   },
   "source": [
    "## Pre-processing a dataset: when are ready for ML?\n",
    "* ~~Ideally, data are organized as a table: examples-vs-features~~\n",
    "* ~~Data from multiple sources are combined~~\n",
    "* ~~Missing data are handled~~\n",
    "* Features have been combined and manipulated as needed\n",
    "* Any data that need to be normalized have been normalized\n",
    "* Data are of correct type (e.g. categorical vs continuous, boolean vs int)"
   ]
  },
  {
   "cell_type": "code",
   "execution_count": 69,
   "metadata": {},
   "outputs": [
    {
     "data": {
      "text/plain": [
       "Id                 int64\n",
       "LotFrontage      float64\n",
       "CentralAir        object\n",
       "1stFlrSF           int64\n",
       "SaleCondition     object\n",
       "SalePrice          int64\n",
       "2ndFlrSF           int64\n",
       "total_sf           int64\n",
       "dtype: object"
      ]
     },
     "execution_count": 69,
     "metadata": {},
     "output_type": "execute_result"
    }
   ],
   "source": [
    "boston.dtypes"
   ]
  },
  {
   "cell_type": "code",
   "execution_count": 70,
   "metadata": {},
   "outputs": [
    {
     "data": {
      "text/plain": [
       "0    Y\n",
       "1    Y\n",
       "2    Y\n",
       "3    Y\n",
       "4    Y\n",
       "Name: CentralAir, dtype: object"
      ]
     },
     "execution_count": 70,
     "metadata": {},
     "output_type": "execute_result"
    }
   ],
   "source": [
    "boston.CentralAir.head()"
   ]
  },
  {
   "cell_type": "code",
   "execution_count": 71,
   "metadata": {},
   "outputs": [
    {
     "data": {
      "text/plain": [
       "0      normal\n",
       "1      normal\n",
       "2      normal\n",
       "3    abnormal\n",
       "4      normal\n",
       "Name: SaleCondition, dtype: object"
      ]
     },
     "execution_count": 71,
     "metadata": {},
     "output_type": "execute_result"
    }
   ],
   "source": [
    "boston.SaleCondition.head()"
   ]
  },
  {
   "cell_type": "raw",
   "metadata": {},
   "source": [
    "boston.SaleCondition.unique()"
   ]
  },
  {
   "cell_type": "code",
   "execution_count": 35,
   "metadata": {},
   "outputs": [
    {
     "data": {
      "text/plain": [
       "array(['Normal', 'Abnorml', 'Partial', 'AdjLand'], dtype=object)"
      ]
     },
     "execution_count": 35,
     "metadata": {},
     "output_type": "execute_result"
    }
   ],
   "source": [
    "boston.SaleCondition.unique()"
   ]
  },
  {
   "cell_type": "code",
   "execution_count": 36,
   "metadata": {},
   "outputs": [],
   "source": [
    "boston = pd.get_dummies(boston, columns= [\"SaleCondition\"], drop_first=True)\n",
    "#dummies turned object into integer "
   ]
  },
  {
   "cell_type": "code",
   "execution_count": 37,
   "metadata": {
    "slideshow": {
     "slide_type": "slide"
    }
   },
   "outputs": [
    {
     "data": {
      "text/html": [
       "<div>\n",
       "<style scoped>\n",
       "    .dataframe tbody tr th:only-of-type {\n",
       "        vertical-align: middle;\n",
       "    }\n",
       "\n",
       "    .dataframe tbody tr th {\n",
       "        vertical-align: top;\n",
       "    }\n",
       "\n",
       "    .dataframe thead th {\n",
       "        text-align: right;\n",
       "    }\n",
       "</style>\n",
       "<table border=\"1\" class=\"dataframe\">\n",
       "  <thead>\n",
       "    <tr style=\"text-align: right;\">\n",
       "      <th></th>\n",
       "      <th>Id</th>\n",
       "      <th>LotFrontage</th>\n",
       "      <th>CentralAir</th>\n",
       "      <th>1stFlrSF</th>\n",
       "      <th>SalePrice</th>\n",
       "      <th>2ndFlrSF</th>\n",
       "      <th>SaleCondition_AdjLand</th>\n",
       "      <th>SaleCondition_Normal</th>\n",
       "      <th>SaleCondition_Partial</th>\n",
       "      <th>total_sf</th>\n",
       "    </tr>\n",
       "  </thead>\n",
       "  <tbody>\n",
       "    <tr>\n",
       "      <th>0</th>\n",
       "      <td>1</td>\n",
       "      <td>65.0</td>\n",
       "      <td>Y</td>\n",
       "      <td>856</td>\n",
       "      <td>208500</td>\n",
       "      <td>854</td>\n",
       "      <td>0</td>\n",
       "      <td>1</td>\n",
       "      <td>0</td>\n",
       "      <td>1710</td>\n",
       "    </tr>\n",
       "    <tr>\n",
       "      <th>1</th>\n",
       "      <td>2</td>\n",
       "      <td>80.0</td>\n",
       "      <td>Y</td>\n",
       "      <td>1262</td>\n",
       "      <td>181500</td>\n",
       "      <td>0</td>\n",
       "      <td>0</td>\n",
       "      <td>1</td>\n",
       "      <td>0</td>\n",
       "      <td>1262</td>\n",
       "    </tr>\n",
       "    <tr>\n",
       "      <th>2</th>\n",
       "      <td>3</td>\n",
       "      <td>68.0</td>\n",
       "      <td>Y</td>\n",
       "      <td>920</td>\n",
       "      <td>223500</td>\n",
       "      <td>866</td>\n",
       "      <td>0</td>\n",
       "      <td>1</td>\n",
       "      <td>0</td>\n",
       "      <td>1786</td>\n",
       "    </tr>\n",
       "    <tr>\n",
       "      <th>3</th>\n",
       "      <td>4</td>\n",
       "      <td>60.0</td>\n",
       "      <td>Y</td>\n",
       "      <td>961</td>\n",
       "      <td>140000</td>\n",
       "      <td>756</td>\n",
       "      <td>0</td>\n",
       "      <td>0</td>\n",
       "      <td>0</td>\n",
       "      <td>1717</td>\n",
       "    </tr>\n",
       "    <tr>\n",
       "      <th>4</th>\n",
       "      <td>5</td>\n",
       "      <td>84.0</td>\n",
       "      <td>Y</td>\n",
       "      <td>1145</td>\n",
       "      <td>250000</td>\n",
       "      <td>1053</td>\n",
       "      <td>0</td>\n",
       "      <td>1</td>\n",
       "      <td>0</td>\n",
       "      <td>2198</td>\n",
       "    </tr>\n",
       "  </tbody>\n",
       "</table>\n",
       "</div>"
      ],
      "text/plain": [
       "   Id  LotFrontage CentralAir  1stFlrSF  SalePrice  2ndFlrSF  \\\n",
       "0   1         65.0          Y       856     208500       854   \n",
       "1   2         80.0          Y      1262     181500         0   \n",
       "2   3         68.0          Y       920     223500       866   \n",
       "3   4         60.0          Y       961     140000       756   \n",
       "4   5         84.0          Y      1145     250000      1053   \n",
       "\n",
       "   SaleCondition_AdjLand  SaleCondition_Normal  SaleCondition_Partial  \\\n",
       "0                      0                     1                      0   \n",
       "1                      0                     1                      0   \n",
       "2                      0                     1                      0   \n",
       "3                      0                     0                      0   \n",
       "4                      0                     1                      0   \n",
       "\n",
       "   total_sf  \n",
       "0      1710  \n",
       "1      1262  \n",
       "2      1786  \n",
       "3      1717  \n",
       "4      2198  "
      ]
     },
     "execution_count": 37,
     "metadata": {},
     "output_type": "execute_result"
    }
   ],
   "source": [
    "# boston.head()\n",
    "boston[\"total_sf\"] = boston[\"1stFlrSF\"] + boston[\"2ndFlrSF\"]\n",
    "boston.head()"
   ]
  },
  {
   "cell_type": "code",
   "execution_count": 76,
   "metadata": {},
   "outputs": [
    {
     "data": {
      "text/plain": [
       "array(['Y', 'N'], dtype=object)"
      ]
     },
     "execution_count": 76,
     "metadata": {},
     "output_type": "execute_result"
    }
   ],
   "source": [
    "boston.CentralAir.unique()"
   ]
  },
  {
   "cell_type": "code",
   "execution_count": 50,
   "metadata": {},
   "outputs": [],
   "source": [
    "boston['CentralAir']=  boston.CentralAir.map({\"Y\":1 , \"N\":0})"
   ]
  },
  {
   "cell_type": "code",
   "execution_count": 51,
   "metadata": {},
   "outputs": [
    {
     "data": {
      "text/plain": [
       "array([1, 0])"
      ]
     },
     "execution_count": 51,
     "metadata": {},
     "output_type": "execute_result"
    }
   ],
   "source": [
    "boston.CentralAir.unique()"
   ]
  },
  {
   "cell_type": "code",
   "execution_count": 52,
   "metadata": {
    "slideshow": {
     "slide_type": "slide"
    }
   },
   "outputs": [
    {
     "data": {
      "text/html": [
       "<div>\n",
       "<style scoped>\n",
       "    .dataframe tbody tr th:only-of-type {\n",
       "        vertical-align: middle;\n",
       "    }\n",
       "\n",
       "    .dataframe tbody tr th {\n",
       "        vertical-align: top;\n",
       "    }\n",
       "\n",
       "    .dataframe thead th {\n",
       "        text-align: right;\n",
       "    }\n",
       "</style>\n",
       "<table border=\"1\" class=\"dataframe\">\n",
       "  <thead>\n",
       "    <tr style=\"text-align: right;\">\n",
       "      <th></th>\n",
       "      <th>Id</th>\n",
       "      <th>LotFrontage</th>\n",
       "      <th>CentralAir</th>\n",
       "      <th>1stFlrSF</th>\n",
       "      <th>SalePrice</th>\n",
       "      <th>2ndFlrSF</th>\n",
       "      <th>SaleCondition_AdjLand</th>\n",
       "      <th>SaleCondition_Normal</th>\n",
       "      <th>SaleCondition_Partial</th>\n",
       "      <th>total_sf</th>\n",
       "      <th>CentralAir_bool</th>\n",
       "    </tr>\n",
       "  </thead>\n",
       "  <tbody>\n",
       "    <tr>\n",
       "      <th>0</th>\n",
       "      <td>1</td>\n",
       "      <td>65.0</td>\n",
       "      <td>1</td>\n",
       "      <td>856</td>\n",
       "      <td>208500</td>\n",
       "      <td>854</td>\n",
       "      <td>0</td>\n",
       "      <td>1</td>\n",
       "      <td>0</td>\n",
       "      <td>1710</td>\n",
       "      <td>False</td>\n",
       "    </tr>\n",
       "    <tr>\n",
       "      <th>1</th>\n",
       "      <td>2</td>\n",
       "      <td>80.0</td>\n",
       "      <td>1</td>\n",
       "      <td>1262</td>\n",
       "      <td>181500</td>\n",
       "      <td>0</td>\n",
       "      <td>0</td>\n",
       "      <td>1</td>\n",
       "      <td>0</td>\n",
       "      <td>1262</td>\n",
       "      <td>False</td>\n",
       "    </tr>\n",
       "    <tr>\n",
       "      <th>2</th>\n",
       "      <td>3</td>\n",
       "      <td>68.0</td>\n",
       "      <td>1</td>\n",
       "      <td>920</td>\n",
       "      <td>223500</td>\n",
       "      <td>866</td>\n",
       "      <td>0</td>\n",
       "      <td>1</td>\n",
       "      <td>0</td>\n",
       "      <td>1786</td>\n",
       "      <td>False</td>\n",
       "    </tr>\n",
       "    <tr>\n",
       "      <th>3</th>\n",
       "      <td>4</td>\n",
       "      <td>60.0</td>\n",
       "      <td>1</td>\n",
       "      <td>961</td>\n",
       "      <td>140000</td>\n",
       "      <td>756</td>\n",
       "      <td>0</td>\n",
       "      <td>0</td>\n",
       "      <td>0</td>\n",
       "      <td>1717</td>\n",
       "      <td>False</td>\n",
       "    </tr>\n",
       "    <tr>\n",
       "      <th>4</th>\n",
       "      <td>5</td>\n",
       "      <td>84.0</td>\n",
       "      <td>1</td>\n",
       "      <td>1145</td>\n",
       "      <td>250000</td>\n",
       "      <td>1053</td>\n",
       "      <td>0</td>\n",
       "      <td>1</td>\n",
       "      <td>0</td>\n",
       "      <td>2198</td>\n",
       "      <td>False</td>\n",
       "    </tr>\n",
       "  </tbody>\n",
       "</table>\n",
       "</div>"
      ],
      "text/plain": [
       "   Id  LotFrontage  CentralAir  1stFlrSF  SalePrice  2ndFlrSF  \\\n",
       "0   1         65.0           1       856     208500       854   \n",
       "1   2         80.0           1      1262     181500         0   \n",
       "2   3         68.0           1       920     223500       866   \n",
       "3   4         60.0           1       961     140000       756   \n",
       "4   5         84.0           1      1145     250000      1053   \n",
       "\n",
       "   SaleCondition_AdjLand  SaleCondition_Normal  SaleCondition_Partial  \\\n",
       "0                      0                     1                      0   \n",
       "1                      0                     1                      0   \n",
       "2                      0                     1                      0   \n",
       "3                      0                     0                      0   \n",
       "4                      0                     1                      0   \n",
       "\n",
       "   total_sf  CentralAir_bool  \n",
       "0      1710            False  \n",
       "1      1262            False  \n",
       "2      1786            False  \n",
       "3      1717            False  \n",
       "4      2198            False  "
      ]
     },
     "execution_count": 52,
     "metadata": {},
     "output_type": "execute_result"
    }
   ],
   "source": [
    "boston.head()\n",
    "#boston = boston.replace({\"Abnorml\": \"abnormal\", \"Normal\": \"normal\"})\n",
    "#boston.head()"
   ]
  },
  {
   "cell_type": "code",
   "execution_count": 110,
   "metadata": {},
   "outputs": [
    {
     "data": {
      "text/plain": [
       "dtype('float64')"
      ]
     },
     "execution_count": 110,
     "metadata": {},
     "output_type": "execute_result"
    }
   ],
   "source": [
    "boston.dtypes"
   ]
  },
  {
   "cell_type": "code",
   "execution_count": 67,
   "metadata": {},
   "outputs": [],
   "source": [
    "import numpy as np"
   ]
  },
  {
   "cell_type": "code",
   "execution_count": 68,
   "metadata": {},
   "outputs": [
    {
     "data": {
      "text/plain": [
       "nan"
      ]
     },
     "execution_count": 68,
     "metadata": {},
     "output_type": "execute_result"
    }
   ],
   "source": [
    "np.NaN"
   ]
  },
  {
   "cell_type": "code",
   "execution_count": null,
   "metadata": {},
   "outputs": [],
   "source": []
  },
  {
   "cell_type": "markdown",
   "metadata": {
    "slideshow": {
     "slide_type": "slide"
    }
   },
   "source": [
    "## Pre-processing a dataset: when are ready for ML?\n",
    "* ~~Ideally, data are organized as a table: examples-vs-features~~\n",
    "* ~~Data from multiple sources are combined~~\n",
    "* ~~Missing data are handled~~\n",
    "* ~~Features have been combined and manipulated as needed~~\n",
    "* Any data that need to be normalized have been normalized\n",
    "* Data are of correct type (e.g. categorical vs continuous, boolean vs int)"
   ]
  },
  {
   "cell_type": "markdown",
   "metadata": {
    "slideshow": {
     "slide_type": "slide"
    }
   },
   "source": [
    "## Normalization\n",
    "* What is it?\n",
    "* Why do it? (data sources, feature distributions)\n",
    "* Types?"
   ]
  },
  {
   "cell_type": "markdown",
   "metadata": {},
   "source": [
    "# scikit-learn object types\n",
    "1. estimators\n",
    "    - classifiers\n",
    "    - regressots\n",
    "2. transformers\n"
   ]
  },
  {
   "cell_type": "markdown",
   "metadata": {
    "slideshow": {
     "slide_type": "slide"
    }
   },
   "source": [
    "### Normalization\n",
    "\n",
    "Many machine learning algorithms expect features to have similar distributions and scales.\n",
    "\n",
    "A classic example is gradient descent, if features are on different scales some weights will update faster than others because the feature values scale the weight updates.\n",
    "\n",
    "There are two common approaches to normalization:\n",
    "\n",
    "* Z-score standardization\n",
    "* Min-max scaling\n",
    "\n",
    "#### Z-score standardization\n",
    "\n",
    "Z-score standardization rescales values so that they have a mean of zero and a standard deviation of 1. Specifically we perform the following transformation:\n",
    "\n",
    "$$z = \\frac{x - \\mu}{\\sigma}$$\n",
    "\n",
    "#### Min-max scaling\n",
    "\n",
    "An alternative is min-max scaling that transforms data into the range of 0 to 1. Specifically:\n",
    "\n",
    "$$x_{norm} = \\frac{x - x_{min}}{x_{max} - x_{min}}$$\n",
    "\n",
    "Min-max scaling is less commonly used but can be useful for image data and in some neural networks."
   ]
  },
  {
   "cell_type": "code",
   "execution_count": 92,
   "metadata": {},
   "outputs": [],
   "source": []
  },
  {
   "cell_type": "code",
   "execution_count": 41,
   "metadata": {
    "slideshow": {
     "slide_type": "slide"
    }
   },
   "outputs": [],
   "source": [
    "# a = (boston['1stFlrSF'] - boston['1stFlrSF'].mean()) / boston['1stFlrSF'].std()\n",
    "# boston['1stFlrSF'].hist()\n",
    "# boston.head()\n",
    "## boston.total_sf.hist()\n",
    "\n",
    "from sklearn.preprocessing import scale, StandardScaler, MinMaxScaler\n",
    "\n",
    "scaler = StandardScaler()"
   ]
  },
  {
   "cell_type": "markdown",
   "metadata": {},
   "source": [
    "scaler.transform() # transforms data\n",
    "scaler.fit() # train the transform to work on future data\n",
    "scaler.fit_transform() # does both of the steps above so you never actually need to do scaler.fit ()"
   ]
  },
  {
   "cell_type": "code",
   "execution_count": 42,
   "metadata": {},
   "outputs": [],
   "source": [
    "import numpy as np"
   ]
  },
  {
   "cell_type": "code",
   "execution_count": 43,
   "metadata": {
    "slideshow": {
     "slide_type": "slide"
    }
   },
   "outputs": [
    {
     "data": {
      "text/plain": [
       "True"
      ]
     },
     "execution_count": 43,
     "metadata": {},
     "output_type": "execute_result"
    }
   ],
   "source": [
    "np.isclose(scaler.fit_transform(boston[['1stFlrSF']]).sum(),0)"
   ]
  },
  {
   "cell_type": "code",
   "execution_count": 44,
   "metadata": {
    "slideshow": {
     "slide_type": "slide"
    }
   },
   "outputs": [],
   "source": [
    "#print(scaler.fit_transform(boston[[\"1stFlrSf\"]]))\n",
    "scaled_size = pd.Series(scale(boston.total_sf))\n",
    "#scaled_size.hist()\n",
    "#scaled_size.mean()\n",
    "#scaled_size.std(ddof=0)\n",
    "#boston[\"normalized_total_sf\"] = scaled_size"
   ]
  },
  {
   "cell_type": "code",
   "execution_count": 45,
   "metadata": {},
   "outputs": [
    {
     "name": "stdout",
     "output_type": "stream",
     "text": [
      "[[0.26352941]\n",
      " [0.58196078]\n",
      " [0.31372549]\n",
      " [0.34588235]\n",
      " [0.49019608]\n",
      " [0.21647059]\n",
      " [0.92078431]\n",
      " [0.46039216]\n",
      " [0.39372549]\n",
      " [0.43686275]\n",
      " [0.40784314]\n",
      " [0.51921569]\n",
      " [0.30745098]\n",
      " [0.76392157]\n",
      " [0.57490196]\n",
      " [0.26196078]\n",
      " [0.37960784]\n",
      " [0.60862745]\n",
      " [0.46588235]\n",
      " [0.64235294]\n",
      " [0.50039216]\n",
      " [0.46117647]\n",
      " [1.        ]\n",
      " [0.42352941]\n",
      " [0.42352941]\n",
      " [0.84705882]\n",
      " [0.29803922]\n",
      " [0.92862745]\n",
      " [0.84705882]\n",
      " [0.        ]\n",
      " [0.10117647]\n",
      " [0.55529412]\n",
      " [0.56      ]\n",
      " [0.9254902 ]\n",
      " [0.81647059]\n",
      " [0.48      ]\n",
      " [0.45254902]\n",
      " [0.60941176]\n",
      " [0.42117647]\n",
      " [0.49568627]\n",
      " [0.63058824]\n",
      " [0.63372549]\n",
      " [0.2854902 ]]\n"
     ]
    }
   ],
   "source": [
    "scaler = MinMaxScaler()\n",
    "print(scaler.fit_transform(boston[['1stFlrSF']]))"
   ]
  },
  {
   "cell_type": "markdown",
   "metadata": {
    "slideshow": {
     "slide_type": "slide"
    }
   },
   "source": [
    "## Other preprocessing / normalization techniques and thoughts\n",
    "* http://scikit-learn.org/stable/modules/preprocessing.html\n",
    "* http://www.faqs.org/faqs/ai-faq/neural-nets/part2/section-16.html"
   ]
  },
  {
   "cell_type": "markdown",
   "metadata": {
    "slideshow": {
     "slide_type": "slide"
    }
   },
   "source": [
    "## Pre-processing a dataset: when are ready for ML?\n",
    "* ~~Ideally, data are organized as a table: examples-vs-features~~\n",
    "* ~~Data from multiple sources are combined~~\n",
    "* ~~Missing data are handled~~\n",
    "* ~~Features have been combined and manipulated as needed~~\n",
    "* ~~Any data that need to be normalized have been normalized~~\n",
    "* Data are of correct type (e.g. categorical vs continuous, boolean vs int)"
   ]
  },
  {
   "cell_type": "code",
   "execution_count": 53,
   "metadata": {},
   "outputs": [
    {
     "data": {
      "text/plain": [
       "0      True\n",
       "1      True\n",
       "2      True\n",
       "3      True\n",
       "4      True\n",
       "5      True\n",
       "6      True\n",
       "7      True\n",
       "8      True\n",
       "9      True\n",
       "10     True\n",
       "11     True\n",
       "12     True\n",
       "13     True\n",
       "14     True\n",
       "15     True\n",
       "16     True\n",
       "17     True\n",
       "18     True\n",
       "19     True\n",
       "20     True\n",
       "21     True\n",
       "22     True\n",
       "23     True\n",
       "24     True\n",
       "25     True\n",
       "26     True\n",
       "27     True\n",
       "28     True\n",
       "29    False\n",
       "30    False\n",
       "31     True\n",
       "32     True\n",
       "33     True\n",
       "34     True\n",
       "35     True\n",
       "36     True\n",
       "37     True\n",
       "38     True\n",
       "39    False\n",
       "40     True\n",
       "41     True\n",
       "42     True\n",
       "Name: CentralAir, dtype: bool"
      ]
     },
     "execution_count": 53,
     "metadata": {},
     "output_type": "execute_result"
    }
   ],
   "source": [
    "boston [\"CentralAir\"]== 1"
   ]
  },
  {
   "cell_type": "code",
   "execution_count": 54,
   "metadata": {
    "slideshow": {
     "slide_type": "slide"
    }
   },
   "outputs": [],
   "source": [
    "#boston.head()\n",
    "import numpy as np\n",
    "\n",
    "# boston[\"1stFlrSF\"].mean(skipna=False)\n",
    "boston[\"CentralAir_bool\"] = boston[\"CentralAir\"] == 1"
   ]
  },
  {
   "cell_type": "code",
   "execution_count": 55,
   "metadata": {},
   "outputs": [
    {
     "data": {
      "text/html": [
       "<div>\n",
       "<style scoped>\n",
       "    .dataframe tbody tr th:only-of-type {\n",
       "        vertical-align: middle;\n",
       "    }\n",
       "\n",
       "    .dataframe tbody tr th {\n",
       "        vertical-align: top;\n",
       "    }\n",
       "\n",
       "    .dataframe thead th {\n",
       "        text-align: right;\n",
       "    }\n",
       "</style>\n",
       "<table border=\"1\" class=\"dataframe\">\n",
       "  <thead>\n",
       "    <tr style=\"text-align: right;\">\n",
       "      <th></th>\n",
       "      <th>Id</th>\n",
       "      <th>LotFrontage</th>\n",
       "      <th>CentralAir</th>\n",
       "      <th>1stFlrSF</th>\n",
       "      <th>SalePrice</th>\n",
       "      <th>2ndFlrSF</th>\n",
       "      <th>SaleCondition_AdjLand</th>\n",
       "      <th>SaleCondition_Normal</th>\n",
       "      <th>SaleCondition_Partial</th>\n",
       "      <th>total_sf</th>\n",
       "      <th>CentralAir_bool</th>\n",
       "    </tr>\n",
       "  </thead>\n",
       "  <tbody>\n",
       "    <tr>\n",
       "      <th>0</th>\n",
       "      <td>1</td>\n",
       "      <td>65.0</td>\n",
       "      <td>1</td>\n",
       "      <td>856</td>\n",
       "      <td>208500</td>\n",
       "      <td>854</td>\n",
       "      <td>0</td>\n",
       "      <td>1</td>\n",
       "      <td>0</td>\n",
       "      <td>1710</td>\n",
       "      <td>True</td>\n",
       "    </tr>\n",
       "    <tr>\n",
       "      <th>1</th>\n",
       "      <td>2</td>\n",
       "      <td>80.0</td>\n",
       "      <td>1</td>\n",
       "      <td>1262</td>\n",
       "      <td>181500</td>\n",
       "      <td>0</td>\n",
       "      <td>0</td>\n",
       "      <td>1</td>\n",
       "      <td>0</td>\n",
       "      <td>1262</td>\n",
       "      <td>True</td>\n",
       "    </tr>\n",
       "    <tr>\n",
       "      <th>2</th>\n",
       "      <td>3</td>\n",
       "      <td>68.0</td>\n",
       "      <td>1</td>\n",
       "      <td>920</td>\n",
       "      <td>223500</td>\n",
       "      <td>866</td>\n",
       "      <td>0</td>\n",
       "      <td>1</td>\n",
       "      <td>0</td>\n",
       "      <td>1786</td>\n",
       "      <td>True</td>\n",
       "    </tr>\n",
       "    <tr>\n",
       "      <th>3</th>\n",
       "      <td>4</td>\n",
       "      <td>60.0</td>\n",
       "      <td>1</td>\n",
       "      <td>961</td>\n",
       "      <td>140000</td>\n",
       "      <td>756</td>\n",
       "      <td>0</td>\n",
       "      <td>0</td>\n",
       "      <td>0</td>\n",
       "      <td>1717</td>\n",
       "      <td>True</td>\n",
       "    </tr>\n",
       "    <tr>\n",
       "      <th>4</th>\n",
       "      <td>5</td>\n",
       "      <td>84.0</td>\n",
       "      <td>1</td>\n",
       "      <td>1145</td>\n",
       "      <td>250000</td>\n",
       "      <td>1053</td>\n",
       "      <td>0</td>\n",
       "      <td>1</td>\n",
       "      <td>0</td>\n",
       "      <td>2198</td>\n",
       "      <td>True</td>\n",
       "    </tr>\n",
       "  </tbody>\n",
       "</table>\n",
       "</div>"
      ],
      "text/plain": [
       "   Id  LotFrontage  CentralAir  1stFlrSF  SalePrice  2ndFlrSF  \\\n",
       "0   1         65.0           1       856     208500       854   \n",
       "1   2         80.0           1      1262     181500         0   \n",
       "2   3         68.0           1       920     223500       866   \n",
       "3   4         60.0           1       961     140000       756   \n",
       "4   5         84.0           1      1145     250000      1053   \n",
       "\n",
       "   SaleCondition_AdjLand  SaleCondition_Normal  SaleCondition_Partial  \\\n",
       "0                      0                     1                      0   \n",
       "1                      0                     1                      0   \n",
       "2                      0                     1                      0   \n",
       "3                      0                     0                      0   \n",
       "4                      0                     1                      0   \n",
       "\n",
       "   total_sf  CentralAir_bool  \n",
       "0      1710             True  \n",
       "1      1262             True  \n",
       "2      1786             True  \n",
       "3      1717             True  \n",
       "4      2198             True  "
      ]
     },
     "execution_count": 55,
     "metadata": {},
     "output_type": "execute_result"
    }
   ],
   "source": [
    "boston.head()"
   ]
  },
  {
   "cell_type": "code",
   "execution_count": 34,
   "metadata": {
    "slideshow": {
     "slide_type": "slide"
    }
   },
   "outputs": [
    {
     "data": {
      "text/plain": [
       "CategoricalDtype(categories=['AdjLand', 'Partial', 'abnormal', 'normal'], ordered=False)"
      ]
     },
     "execution_count": 34,
     "metadata": {},
     "output_type": "execute_result"
    }
   ],
   "source": [
    "# boston.head()\n",
    "# boston[\"SaleCondition\"].dtype\n",
    "#boston[\"SaleCondition\"].head()\n",
    "#boston[\"SaleCondition\"].astype(\"category\").dtype\n",
    "#boston[\"SaleCondition\"] = boston[\"SaleCondition\"].astype(\"category\")\n",
    "#boston[\"SaleCondition\"].dtype"
   ]
  },
  {
   "cell_type": "markdown",
   "metadata": {},
   "source": [
    "pd.get_dummies ~ OneHotEncoder"
   ]
  },
  {
   "cell_type": "code",
   "execution_count": 56,
   "metadata": {},
   "outputs": [
    {
     "data": {
      "text/plain": [
       "array([[1],\n",
       "       [1],\n",
       "       [0],\n",
       "       [0]])"
      ]
     },
     "execution_count": 56,
     "metadata": {},
     "output_type": "execute_result"
    }
   ],
   "source": [
    "from sklearn.preprocessing import OneHotEncoder, LabelBinarizer\n",
    "\n",
    "lb = LabelBinarizer() #transformer, first instatiate it and then call\n",
    "lb.fit_transform(['yes', 'yes', 'no', 'no'])          #learning (training) and then transforming"
   ]
  },
  {
   "cell_type": "code",
   "execution_count": 57,
   "metadata": {},
   "outputs": [
    {
     "data": {
      "text/plain": [
       "array([[0, 0, 1],\n",
       "       [0, 0, 1],\n",
       "       [0, 1, 0],\n",
       "       [0, 1, 0],\n",
       "       [1, 0, 0]])"
      ]
     },
     "execution_count": 57,
     "metadata": {},
     "output_type": "execute_result"
    }
   ],
   "source": [
    "lb.fit_transform(['yes', 'yes', 'no', 'no', 'maybe'])"
   ]
  },
  {
   "cell_type": "code",
   "execution_count": 60,
   "metadata": {},
   "outputs": [
    {
     "data": {
      "text/plain": [
       "0    True\n",
       "1    True\n",
       "2    True\n",
       "3    True\n",
       "4    True\n",
       "Name: CentralAir_bool, dtype: bool"
      ]
     },
     "execution_count": 60,
     "metadata": {},
     "output_type": "execute_result"
    }
   ],
   "source": [
    "boston.CentralAir_bool.head()"
   ]
  },
  {
   "cell_type": "code",
   "execution_count": 58,
   "metadata": {},
   "outputs": [
    {
     "ename": "KeyError",
     "evalue": "\"['SaleCondition'] not in index\"",
     "output_type": "error",
     "traceback": [
      "\u001b[0;31m---------------------------------------------------------------------------\u001b[0m",
      "\u001b[0;31mKeyError\u001b[0m                                  Traceback (most recent call last)",
      "\u001b[0;32m<ipython-input-58-794066f0cf6f>\u001b[0m in \u001b[0;36m<module>\u001b[0;34m\u001b[0m\n\u001b[1;32m      1\u001b[0m \u001b[0mohe\u001b[0m \u001b[0;34m=\u001b[0m \u001b[0mOneHotEncoder\u001b[0m\u001b[0;34m(\u001b[0m\u001b[0;34m)\u001b[0m\u001b[0;34m\u001b[0m\u001b[0;34m\u001b[0m\u001b[0m\n\u001b[0;32m----> 2\u001b[0;31m \u001b[0msparse_matrix\u001b[0m \u001b[0;34m=\u001b[0m \u001b[0mohe\u001b[0m\u001b[0;34m.\u001b[0m\u001b[0mfit_transform\u001b[0m\u001b[0;34m(\u001b[0m\u001b[0mboston\u001b[0m\u001b[0;34m[\u001b[0m\u001b[0;34m[\u001b[0m\u001b[0;34m'SaleCondition'\u001b[0m\u001b[0;34m,\u001b[0m \u001b[0;34m'CentralAir_bool'\u001b[0m\u001b[0;34m]\u001b[0m\u001b[0;34m]\u001b[0m\u001b[0;34m)\u001b[0m\u001b[0;34m\u001b[0m\u001b[0;34m\u001b[0m\u001b[0m\n\u001b[0m\u001b[1;32m      3\u001b[0m \u001b[0msparse_matrix\u001b[0m\u001b[0;34m.\u001b[0m\u001b[0mtodense\u001b[0m\u001b[0;34m(\u001b[0m\u001b[0;34m)\u001b[0m\u001b[0;34m\u001b[0m\u001b[0;34m\u001b[0m\u001b[0m\n",
      "\u001b[0;32m//anaconda3/lib/python3.7/site-packages/pandas/core/frame.py\u001b[0m in \u001b[0;36m__getitem__\u001b[0;34m(self, key)\u001b[0m\n\u001b[1;32m   2932\u001b[0m                 \u001b[0mkey\u001b[0m \u001b[0;34m=\u001b[0m \u001b[0mlist\u001b[0m\u001b[0;34m(\u001b[0m\u001b[0mkey\u001b[0m\u001b[0;34m)\u001b[0m\u001b[0;34m\u001b[0m\u001b[0;34m\u001b[0m\u001b[0m\n\u001b[1;32m   2933\u001b[0m             indexer = self.loc._convert_to_indexer(key, axis=1,\n\u001b[0;32m-> 2934\u001b[0;31m                                                    raise_missing=True)\n\u001b[0m\u001b[1;32m   2935\u001b[0m \u001b[0;34m\u001b[0m\u001b[0m\n\u001b[1;32m   2936\u001b[0m         \u001b[0;31m# take() does not accept boolean indexers\u001b[0m\u001b[0;34m\u001b[0m\u001b[0;34m\u001b[0m\u001b[0;34m\u001b[0m\u001b[0m\n",
      "\u001b[0;32m//anaconda3/lib/python3.7/site-packages/pandas/core/indexing.py\u001b[0m in \u001b[0;36m_convert_to_indexer\u001b[0;34m(self, obj, axis, is_setter, raise_missing)\u001b[0m\n\u001b[1;32m   1352\u001b[0m                 kwargs = {'raise_missing': True if is_setter else\n\u001b[1;32m   1353\u001b[0m                           raise_missing}\n\u001b[0;32m-> 1354\u001b[0;31m                 \u001b[0;32mreturn\u001b[0m \u001b[0mself\u001b[0m\u001b[0;34m.\u001b[0m\u001b[0m_get_listlike_indexer\u001b[0m\u001b[0;34m(\u001b[0m\u001b[0mobj\u001b[0m\u001b[0;34m,\u001b[0m \u001b[0maxis\u001b[0m\u001b[0;34m,\u001b[0m \u001b[0;34m**\u001b[0m\u001b[0mkwargs\u001b[0m\u001b[0;34m)\u001b[0m\u001b[0;34m[\u001b[0m\u001b[0;36m1\u001b[0m\u001b[0;34m]\u001b[0m\u001b[0;34m\u001b[0m\u001b[0;34m\u001b[0m\u001b[0m\n\u001b[0m\u001b[1;32m   1355\u001b[0m         \u001b[0;32melse\u001b[0m\u001b[0;34m:\u001b[0m\u001b[0;34m\u001b[0m\u001b[0;34m\u001b[0m\u001b[0m\n\u001b[1;32m   1356\u001b[0m             \u001b[0;32mtry\u001b[0m\u001b[0;34m:\u001b[0m\u001b[0;34m\u001b[0m\u001b[0;34m\u001b[0m\u001b[0m\n",
      "\u001b[0;32m//anaconda3/lib/python3.7/site-packages/pandas/core/indexing.py\u001b[0m in \u001b[0;36m_get_listlike_indexer\u001b[0;34m(self, key, axis, raise_missing)\u001b[0m\n\u001b[1;32m   1159\u001b[0m         self._validate_read_indexer(keyarr, indexer,\n\u001b[1;32m   1160\u001b[0m                                     \u001b[0mo\u001b[0m\u001b[0;34m.\u001b[0m\u001b[0m_get_axis_number\u001b[0m\u001b[0;34m(\u001b[0m\u001b[0maxis\u001b[0m\u001b[0;34m)\u001b[0m\u001b[0;34m,\u001b[0m\u001b[0;34m\u001b[0m\u001b[0;34m\u001b[0m\u001b[0m\n\u001b[0;32m-> 1161\u001b[0;31m                                     raise_missing=raise_missing)\n\u001b[0m\u001b[1;32m   1162\u001b[0m         \u001b[0;32mreturn\u001b[0m \u001b[0mkeyarr\u001b[0m\u001b[0;34m,\u001b[0m \u001b[0mindexer\u001b[0m\u001b[0;34m\u001b[0m\u001b[0;34m\u001b[0m\u001b[0m\n\u001b[1;32m   1163\u001b[0m \u001b[0;34m\u001b[0m\u001b[0m\n",
      "\u001b[0;32m//anaconda3/lib/python3.7/site-packages/pandas/core/indexing.py\u001b[0m in \u001b[0;36m_validate_read_indexer\u001b[0;34m(self, key, indexer, axis, raise_missing)\u001b[0m\n\u001b[1;32m   1250\u001b[0m             \u001b[0;32mif\u001b[0m \u001b[0;32mnot\u001b[0m\u001b[0;34m(\u001b[0m\u001b[0mself\u001b[0m\u001b[0;34m.\u001b[0m\u001b[0mname\u001b[0m \u001b[0;34m==\u001b[0m \u001b[0;34m'loc'\u001b[0m \u001b[0;32mand\u001b[0m \u001b[0;32mnot\u001b[0m \u001b[0mraise_missing\u001b[0m\u001b[0;34m)\u001b[0m\u001b[0;34m:\u001b[0m\u001b[0;34m\u001b[0m\u001b[0;34m\u001b[0m\u001b[0m\n\u001b[1;32m   1251\u001b[0m                 \u001b[0mnot_found\u001b[0m \u001b[0;34m=\u001b[0m \u001b[0mlist\u001b[0m\u001b[0;34m(\u001b[0m\u001b[0mset\u001b[0m\u001b[0;34m(\u001b[0m\u001b[0mkey\u001b[0m\u001b[0;34m)\u001b[0m \u001b[0;34m-\u001b[0m \u001b[0mset\u001b[0m\u001b[0;34m(\u001b[0m\u001b[0max\u001b[0m\u001b[0;34m)\u001b[0m\u001b[0;34m)\u001b[0m\u001b[0;34m\u001b[0m\u001b[0;34m\u001b[0m\u001b[0m\n\u001b[0;32m-> 1252\u001b[0;31m                 \u001b[0;32mraise\u001b[0m \u001b[0mKeyError\u001b[0m\u001b[0;34m(\u001b[0m\u001b[0;34m\"{} not in index\"\u001b[0m\u001b[0;34m.\u001b[0m\u001b[0mformat\u001b[0m\u001b[0;34m(\u001b[0m\u001b[0mnot_found\u001b[0m\u001b[0;34m)\u001b[0m\u001b[0;34m)\u001b[0m\u001b[0;34m\u001b[0m\u001b[0;34m\u001b[0m\u001b[0m\n\u001b[0m\u001b[1;32m   1253\u001b[0m \u001b[0;34m\u001b[0m\u001b[0m\n\u001b[1;32m   1254\u001b[0m             \u001b[0;31m# we skip the warning on Categorical/Interval\u001b[0m\u001b[0;34m\u001b[0m\u001b[0;34m\u001b[0m\u001b[0;34m\u001b[0m\u001b[0m\n",
      "\u001b[0;31mKeyError\u001b[0m: \"['SaleCondition'] not in index\""
     ]
    }
   ],
   "source": [
    "ohe = OneHotEncoder()\n",
    "sparse_matrix = ohe.fit_transform(boston[['SaleCondition', 'CentralAir_bool']]) #doesnt work bc we got rid of sale condition\n",
    "sparse_matrix.todense()"
   ]
  },
  {
   "cell_type": "markdown",
   "metadata": {},
   "source": [
    "### Another example of categorical data conversion to boolean features"
   ]
  },
  {
   "cell_type": "code",
   "execution_count": 61,
   "metadata": {},
   "outputs": [
    {
     "data": {
      "text/html": [
       "<div>\n",
       "<style scoped>\n",
       "    .dataframe tbody tr th:only-of-type {\n",
       "        vertical-align: middle;\n",
       "    }\n",
       "\n",
       "    .dataframe tbody tr th {\n",
       "        vertical-align: top;\n",
       "    }\n",
       "\n",
       "    .dataframe thead th {\n",
       "        text-align: right;\n",
       "    }\n",
       "</style>\n",
       "<table border=\"1\" class=\"dataframe\">\n",
       "  <thead>\n",
       "    <tr style=\"text-align: right;\">\n",
       "      <th></th>\n",
       "      <th>A</th>\n",
       "      <th>B</th>\n",
       "      <th>C</th>\n",
       "      <th>D</th>\n",
       "      <th>E</th>\n",
       "    </tr>\n",
       "  </thead>\n",
       "  <tbody>\n",
       "    <tr>\n",
       "      <th>0</th>\n",
       "      <td>0</td>\n",
       "      <td>2</td>\n",
       "      <td>0.1</td>\n",
       "      <td>100</td>\n",
       "      <td>Green</td>\n",
       "    </tr>\n",
       "    <tr>\n",
       "      <th>1</th>\n",
       "      <td>1</td>\n",
       "      <td>NaN</td>\n",
       "      <td>0.12</td>\n",
       "      <td>120</td>\n",
       "      <td>Red</td>\n",
       "    </tr>\n",
       "    <tr>\n",
       "      <th>2</th>\n",
       "      <td>2</td>\n",
       "      <td>7</td>\n",
       "      <td>0.11</td>\n",
       "      <td>NaN</td>\n",
       "      <td>Blue</td>\n",
       "    </tr>\n",
       "    <tr>\n",
       "      <th>3</th>\n",
       "      <td>3</td>\n",
       "      <td>4</td>\n",
       "      <td>0.15</td>\n",
       "      <td>127</td>\n",
       "      <td>Blue</td>\n",
       "    </tr>\n",
       "    <tr>\n",
       "      <th>4</th>\n",
       "      <td>4</td>\n",
       "      <td>9</td>\n",
       "      <td>0.16</td>\n",
       "      <td>130</td>\n",
       "      <td>Green</td>\n",
       "    </tr>\n",
       "    <tr>\n",
       "      <th>5</th>\n",
       "      <td>5</td>\n",
       "      <td>1</td>\n",
       "      <td>0.11</td>\n",
       "      <td>121</td>\n",
       "      <td>Red</td>\n",
       "    </tr>\n",
       "    <tr>\n",
       "      <th>6</th>\n",
       "      <td>6</td>\n",
       "      <td>3</td>\n",
       "      <td>0.14</td>\n",
       "      <td>124</td>\n",
       "      <td>Green</td>\n",
       "    </tr>\n",
       "  </tbody>\n",
       "</table>\n",
       "</div>"
      ],
      "text/plain": [
       "   A    B     C    D      E\n",
       "0  0    2   0.1  100  Green\n",
       "1  1  NaN  0.12  120    Red\n",
       "2  2    7  0.11  NaN   Blue\n",
       "3  3    4  0.15  127   Blue\n",
       "4  4    9  0.16  130  Green\n",
       "5  5    1  0.11  121    Red\n",
       "6  6    3  0.14  124  Green"
      ]
     },
     "execution_count": 61,
     "metadata": {},
     "output_type": "execute_result"
    }
   ],
   "source": [
    "x = pd.DataFrame([[0,1,2,3,4,5,6],\n",
    "                  [2,np.nan,7,4,9,1,3],\n",
    "                  [0.1,0.12,0.11,0.15,0.16,0.11,0.14],\n",
    "                  [100,120,np.nan,127,130,121,124],\n",
    "                  ['Green','Red','Blue','Blue','Green','Red','Green']], ).T\n",
    "x.columns = ['A', 'B', 'C', 'D', 'E']\n",
    "x"
   ]
  },
  {
   "cell_type": "code",
   "execution_count": 62,
   "metadata": {},
   "outputs": [
    {
     "data": {
      "text/plain": [
       "array([[0, 1, 2, 3, 4, 5, 6],\n",
       "       [2, nan, 7, 4, 9, 1, 3],\n",
       "       [0.1, 0.12, 0.11, 0.15, 0.16, 0.11, 0.14],\n",
       "       [100, 120, nan, 127, 130, 121, 124],\n",
       "       ['Green', 'Red', 'Blue', 'Blue', 'Green', 'Red', 'Green']],\n",
       "      dtype=object)"
      ]
     },
     "execution_count": 62,
     "metadata": {},
     "output_type": "execute_result"
    }
   ],
   "source": [
    "x.values.T"
   ]
  },
  {
   "cell_type": "code",
   "execution_count": 64,
   "metadata": {},
   "outputs": [
    {
     "data": {
      "text/plain": [
       "['Green', 'Red', 'Blue']"
      ]
     },
     "execution_count": 64,
     "metadata": {},
     "output_type": "execute_result"
    }
   ],
   "source": [
    "[val for val in x [\"E\"].unique()]"
   ]
  },
  {
   "cell_type": "code",
   "execution_count": 65,
   "metadata": {},
   "outputs": [
    {
     "data": {
      "text/plain": [
       "['Green', 'Red', 'Blue']"
      ]
     },
     "execution_count": 65,
     "metadata": {},
     "output_type": "execute_result"
    }
   ],
   "source": [
    "[val for val in x.E.unique()]"
   ]
  },
  {
   "cell_type": "code",
   "execution_count": 63,
   "metadata": {},
   "outputs": [
    {
     "data": {
      "text/html": [
       "<div>\n",
       "<style scoped>\n",
       "    .dataframe tbody tr th:only-of-type {\n",
       "        vertical-align: middle;\n",
       "    }\n",
       "\n",
       "    .dataframe tbody tr th {\n",
       "        vertical-align: top;\n",
       "    }\n",
       "\n",
       "    .dataframe thead th {\n",
       "        text-align: right;\n",
       "    }\n",
       "</style>\n",
       "<table border=\"1\" class=\"dataframe\">\n",
       "  <thead>\n",
       "    <tr style=\"text-align: right;\">\n",
       "      <th></th>\n",
       "      <th>A</th>\n",
       "      <th>B</th>\n",
       "      <th>C</th>\n",
       "      <th>D</th>\n",
       "      <th>E</th>\n",
       "      <th>E_Green</th>\n",
       "      <th>E_Red</th>\n",
       "      <th>E_Blue</th>\n",
       "    </tr>\n",
       "  </thead>\n",
       "  <tbody>\n",
       "    <tr>\n",
       "      <th>0</th>\n",
       "      <td>0</td>\n",
       "      <td>2</td>\n",
       "      <td>0.1</td>\n",
       "      <td>100</td>\n",
       "      <td>Green</td>\n",
       "      <td>True</td>\n",
       "      <td>False</td>\n",
       "      <td>False</td>\n",
       "    </tr>\n",
       "    <tr>\n",
       "      <th>1</th>\n",
       "      <td>1</td>\n",
       "      <td>NaN</td>\n",
       "      <td>0.12</td>\n",
       "      <td>120</td>\n",
       "      <td>Red</td>\n",
       "      <td>False</td>\n",
       "      <td>True</td>\n",
       "      <td>False</td>\n",
       "    </tr>\n",
       "    <tr>\n",
       "      <th>2</th>\n",
       "      <td>2</td>\n",
       "      <td>7</td>\n",
       "      <td>0.11</td>\n",
       "      <td>NaN</td>\n",
       "      <td>Blue</td>\n",
       "      <td>False</td>\n",
       "      <td>False</td>\n",
       "      <td>True</td>\n",
       "    </tr>\n",
       "    <tr>\n",
       "      <th>3</th>\n",
       "      <td>3</td>\n",
       "      <td>4</td>\n",
       "      <td>0.15</td>\n",
       "      <td>127</td>\n",
       "      <td>Blue</td>\n",
       "      <td>False</td>\n",
       "      <td>False</td>\n",
       "      <td>True</td>\n",
       "    </tr>\n",
       "    <tr>\n",
       "      <th>4</th>\n",
       "      <td>4</td>\n",
       "      <td>9</td>\n",
       "      <td>0.16</td>\n",
       "      <td>130</td>\n",
       "      <td>Green</td>\n",
       "      <td>True</td>\n",
       "      <td>False</td>\n",
       "      <td>False</td>\n",
       "    </tr>\n",
       "    <tr>\n",
       "      <th>5</th>\n",
       "      <td>5</td>\n",
       "      <td>1</td>\n",
       "      <td>0.11</td>\n",
       "      <td>121</td>\n",
       "      <td>Red</td>\n",
       "      <td>False</td>\n",
       "      <td>True</td>\n",
       "      <td>False</td>\n",
       "    </tr>\n",
       "    <tr>\n",
       "      <th>6</th>\n",
       "      <td>6</td>\n",
       "      <td>3</td>\n",
       "      <td>0.14</td>\n",
       "      <td>124</td>\n",
       "      <td>Green</td>\n",
       "      <td>True</td>\n",
       "      <td>False</td>\n",
       "      <td>False</td>\n",
       "    </tr>\n",
       "  </tbody>\n",
       "</table>\n",
       "</div>"
      ],
      "text/plain": [
       "   A    B     C    D      E  E_Green  E_Red  E_Blue\n",
       "0  0    2   0.1  100  Green     True  False   False\n",
       "1  1  NaN  0.12  120    Red    False   True   False\n",
       "2  2    7  0.11  NaN   Blue    False  False    True\n",
       "3  3    4  0.15  127   Blue    False  False    True\n",
       "4  4    9  0.16  130  Green     True  False   False\n",
       "5  5    1  0.11  121    Red    False   True   False\n",
       "6  6    3  0.14  124  Green     True  False   False"
      ]
     },
     "execution_count": 63,
     "metadata": {},
     "output_type": "execute_result"
    }
   ],
   "source": [
    "x_cat = x.copy()\n",
    "for val in x['E'].unique():\n",
    "    x_cat['E_{0}'.format(val)] = x_cat['E'] == val\n",
    "x_cat"
   ]
  },
  {
   "cell_type": "code",
   "execution_count": 40,
   "metadata": {},
   "outputs": [
    {
     "data": {
      "text/html": [
       "<div>\n",
       "<style scoped>\n",
       "    .dataframe tbody tr th:only-of-type {\n",
       "        vertical-align: middle;\n",
       "    }\n",
       "\n",
       "    .dataframe tbody tr th {\n",
       "        vertical-align: top;\n",
       "    }\n",
       "\n",
       "    .dataframe thead th {\n",
       "        text-align: right;\n",
       "    }\n",
       "</style>\n",
       "<table border=\"1\" class=\"dataframe\">\n",
       "  <thead>\n",
       "    <tr style=\"text-align: right;\">\n",
       "      <th>E</th>\n",
       "      <th>Blue</th>\n",
       "      <th>Green</th>\n",
       "      <th>Red</th>\n",
       "    </tr>\n",
       "    <tr>\n",
       "      <th>A</th>\n",
       "      <th></th>\n",
       "      <th></th>\n",
       "      <th></th>\n",
       "    </tr>\n",
       "  </thead>\n",
       "  <tbody>\n",
       "    <tr>\n",
       "      <th>0</th>\n",
       "      <td>NaN</td>\n",
       "      <td>0.1</td>\n",
       "      <td>NaN</td>\n",
       "    </tr>\n",
       "    <tr>\n",
       "      <th>1</th>\n",
       "      <td>NaN</td>\n",
       "      <td>NaN</td>\n",
       "      <td>0.12</td>\n",
       "    </tr>\n",
       "    <tr>\n",
       "      <th>2</th>\n",
       "      <td>0.11</td>\n",
       "      <td>NaN</td>\n",
       "      <td>NaN</td>\n",
       "    </tr>\n",
       "    <tr>\n",
       "      <th>3</th>\n",
       "      <td>0.15</td>\n",
       "      <td>NaN</td>\n",
       "      <td>NaN</td>\n",
       "    </tr>\n",
       "    <tr>\n",
       "      <th>4</th>\n",
       "      <td>NaN</td>\n",
       "      <td>0.16</td>\n",
       "      <td>NaN</td>\n",
       "    </tr>\n",
       "    <tr>\n",
       "      <th>5</th>\n",
       "      <td>NaN</td>\n",
       "      <td>NaN</td>\n",
       "      <td>0.11</td>\n",
       "    </tr>\n",
       "    <tr>\n",
       "      <th>6</th>\n",
       "      <td>NaN</td>\n",
       "      <td>0.14</td>\n",
       "      <td>NaN</td>\n",
       "    </tr>\n",
       "  </tbody>\n",
       "</table>\n",
       "</div>"
      ],
      "text/plain": [
       "E  Blue Green   Red\n",
       "A                  \n",
       "0   NaN   0.1   NaN\n",
       "1   NaN   NaN  0.12\n",
       "2  0.11   NaN   NaN\n",
       "3  0.15   NaN   NaN\n",
       "4   NaN  0.16   NaN\n",
       "5   NaN   NaN  0.11\n",
       "6   NaN  0.14   NaN"
      ]
     },
     "execution_count": 40,
     "metadata": {},
     "output_type": "execute_result"
    }
   ],
   "source": [
    "# Another option to have one feature per color is to use Pivot\n",
    "# Note that it will create missing data:\n",
    "x.pivot(index='A', columns='E', values='C')"
   ]
  },
  {
   "cell_type": "markdown",
   "metadata": {
    "slideshow": {
     "slide_type": "slide"
    }
   },
   "source": [
    "## Pre-processing a dataset: when are ready for ML?\n",
    "* ~~Ideally, data are organized as a table: examples-vs-features~~\n",
    "* ~~Data from multiple sources are combined~~\n",
    "* ~~Missing data are handled~~\n",
    "* ~~Features have been combined and manipulated as needed~~\n",
    "* ~~Any data that need to be normalized have been normalized~~\n",
    "* ~~Data are of correct type (e.g. categorical vs continuous, boolean vs int)~~"
   ]
  },
  {
   "cell_type": "markdown",
   "metadata": {
    "slideshow": {
     "slide_type": "slide"
    }
   },
   "source": [
    "## Other types of data storage\n",
    "* Image\n",
    "* Text"
   ]
  },
  {
   "cell_type": "markdown",
   "metadata": {},
   "source": [
    "### Image\n",
    "\n",
    "Datasets with images also need to follow samples-by-features format.\n",
    "Features in this case are pixels and their intensities. For black and white images intensities are binary. For grayscale they could be integer or floating point numbers. Color images are usually represented as multiple images - one for each color channel (e.g. red / green / blue).\n",
    "\n",
    "Thus each image is represented as a one dimensional array, which is exactly what's needed for ML applications. To visualize it, however, we need to change its shape."
   ]
  },
  {
   "cell_type": "code",
   "execution_count": 66,
   "metadata": {},
   "outputs": [
    {
     "name": "stdout",
     "output_type": "stream",
     "text": [
      "downloading Olivetti faces from https://ndownloader.figshare.com/files/5976027 to /Users/gretchengreene/scikit_learn_data\n",
      "Dimensionality samples x features (400, 4096)\n"
     ]
    },
    {
     "data": {
      "text/plain": [
       "array([0.30991736, 0.3677686 , 0.41735536, ..., 0.15289256, 0.16115703,\n",
       "       0.1570248 ], dtype=float32)"
      ]
     },
     "execution_count": 66,
     "metadata": {},
     "output_type": "execute_result"
    }
   ],
   "source": [
    "from sklearn.datasets import fetch_olivetti_faces\n",
    "dataset = fetch_olivetti_faces()     \n",
    "print(\"Dimensionality samples x features\", dataset.data.shape)\n",
    "\n",
    "# first image - pixel intensities\n",
    "dataset.data[0]"
   ]
  },
  {
   "cell_type": "code",
   "execution_count": 70,
   "metadata": {},
   "outputs": [
    {
     "name": "stdout",
     "output_type": "stream",
     "text": [
      ".. _olivetti_faces_dataset:\n",
      "\n",
      "The Olivetti faces dataset\n",
      "--------------------------\n",
      "\n",
      "`This dataset contains a set of face images`_ taken between April 1992 and \n",
      "April 1994 at AT&T Laboratories Cambridge. The\n",
      ":func:`sklearn.datasets.fetch_olivetti_faces` function is the data\n",
      "fetching / caching function that downloads the data\n",
      "archive from AT&T.\n",
      "\n",
      ".. _This dataset contains a set of face images: http://www.cl.cam.ac.uk/research/dtg/attarchive/facedatabase.html\n",
      "\n",
      "As described on the original website:\n",
      "\n",
      "    There are ten different images of each of 40 distinct subjects. For some\n",
      "    subjects, the images were taken at different times, varying the lighting,\n",
      "    facial expressions (open / closed eyes, smiling / not smiling) and facial\n",
      "    details (glasses / no glasses). All the images were taken against a dark\n",
      "    homogeneous background with the subjects in an upright, frontal position \n",
      "    (with tolerance for some side movement).\n",
      "\n",
      "**Data Set Characteristics:**\n",
      "\n",
      "    =================   =====================\n",
      "    Classes                                40\n",
      "    Samples total                         400\n",
      "    Dimensionality                       4096\n",
      "    Features            real, between 0 and 1\n",
      "    =================   =====================\n",
      "\n",
      "The image is quantized to 256 grey levels and stored as unsigned 8-bit \n",
      "integers; the loader will convert these to floating point values on the \n",
      "interval [0, 1], which are easier to work with for many algorithms.\n",
      "\n",
      "The \"target\" for this database is an integer from 0 to 39 indicating the\n",
      "identity of the person pictured; however, with only 10 examples per class, this\n",
      "relatively small dataset is more interesting from an unsupervised or\n",
      "semi-supervised perspective.\n",
      "\n",
      "The original dataset consisted of 92 x 112, while the version available here\n",
      "consists of 64x64 images.\n",
      "\n",
      "When using these images, please give credit to AT&T Laboratories Cambridge.\n",
      "\n"
     ]
    }
   ],
   "source": [
    "print(dataset.DESCR)"
   ]
  },
  {
   "cell_type": "code",
   "execution_count": 68,
   "metadata": {},
   "outputs": [
    {
     "data": {
      "text/plain": [
       "<matplotlib.image.AxesImage at 0x1a24d95b38>"
      ]
     },
     "execution_count": 68,
     "metadata": {},
     "output_type": "execute_result"
    },
    {
     "data": {
      "image/png": "[encoded data removed]",
      "text/plain": [
       "<Figure size 432x288 with 1 Axes>"
      ]
     },
     "metadata": {
      "needs_background": "light"
     },
     "output_type": "display_data"
    }
   ],
   "source": [
    "# reshaping to visualize\n",
    "import matplotlib.pyplot as plt\n",
    "plt.imshow(dataset.data[0].reshape(64, 64), cmap=plt.cm.gray)"
   ]
  },
  {
   "cell_type": "code",
   "execution_count": 69,
   "metadata": {},
   "outputs": [
    {
     "data": {
      "text/plain": [
       "<matplotlib.image.AxesImage at 0x1a25209ac8>"
      ]
     },
     "execution_count": 69,
     "metadata": {},
     "output_type": "execute_result"
    },
    {
     "data": {
      "image/png": "[encoded data removed]",
      "text/plain": [
       "<Figure size 432x288 with 1 Axes>"
      ]
     },
     "metadata": {
      "needs_background": "light"
     },
     "output_type": "display_data"
    }
   ],
   "source": [
    "# Example of normalization of an image\n",
    "from sklearn.preprocessing import Binarizer\n",
    "\n",
    "image = dataset.data[0].reshape(64, 64)\n",
    "normalized_image = Binarizer(threshold=0.6).fit_transform(image)\n",
    "plt.imshow(normalized_image, cmap=plt.cm.gray)"
   ]
  },
  {
   "cell_type": "markdown",
   "metadata": {},
   "source": [
    "### Text\n",
    "\n",
    "Text has also to be transformed to samples-by-features format.\n",
    "In the simplest case each document is a sample and ocurrence of words are its features."
   ]
  },
  {
   "cell_type": "code",
   "execution_count": 72,
   "metadata": {},
   "outputs": [
    {
     "name": "stderr",
     "output_type": "stream",
     "text": [
      "Downloading 20news dataset. This may take a few minutes.\n",
      "Downloading dataset from https://ndownloader.figshare.com/files/5975967 (14 MB)\n"
     ]
    }
   ],
   "source": [
    "from sklearn.datasets import fetch_20newsgroups\n",
    "emails = fetch_20newsgroups(subset='train', categories=['sci.med'], shuffle=True, random_state=0)"
   ]
  },
  {
   "cell_type": "code",
   "execution_count": null,
   "metadata": {},
   "outputs": [],
   "source": [
    "print(emails.target_names)"
   ]
  },
  {
   "cell_type": "code",
   "execution_count": 71,
   "metadata": {},
   "outputs": [
    {
     "ename": "NameError",
     "evalue": "name 'emails' is not defined",
     "output_type": "error",
     "traceback": [
      "\u001b[0;31m---------------------------------------------------------------------------\u001b[0m",
      "\u001b[0;31mNameError\u001b[0m                                 Traceback (most recent call last)",
      "\u001b[0;32m<ipython-input-71-0c08aef79793>\u001b[0m in \u001b[0;36m<module>\u001b[0;34m\u001b[0m\n\u001b[0;32m----> 1\u001b[0;31m \u001b[0mprint\u001b[0m\u001b[0;34m(\u001b[0m\u001b[0;34m\"Number of documents\"\u001b[0m\u001b[0;34m,\u001b[0m \u001b[0mlen\u001b[0m\u001b[0;34m(\u001b[0m\u001b[0memails\u001b[0m\u001b[0;34m.\u001b[0m\u001b[0mdata\u001b[0m\u001b[0;34m)\u001b[0m\u001b[0;34m)\u001b[0m\u001b[0;34m\u001b[0m\u001b[0;34m\u001b[0m\u001b[0m\n\u001b[0m\u001b[1;32m      2\u001b[0m \u001b[0mprint\u001b[0m\u001b[0;34m(\u001b[0m\u001b[0;34m\"Beginning of the first document\"\u001b[0m\u001b[0;34m,\u001b[0m \u001b[0memails\u001b[0m\u001b[0;34m.\u001b[0m\u001b[0mdata\u001b[0m\u001b[0;34m[\u001b[0m\u001b[0;36m0\u001b[0m\u001b[0;34m]\u001b[0m\u001b[0;34m[\u001b[0m\u001b[0;34m:\u001b[0m\u001b[0;36m500\u001b[0m\u001b[0;34m]\u001b[0m\u001b[0;34m)\u001b[0m\u001b[0;34m\u001b[0m\u001b[0;34m\u001b[0m\u001b[0m\n",
      "\u001b[0;31mNameError\u001b[0m: name 'emails' is not defined"
     ]
    }
   ],
   "source": [
    "print(\"Number of documents\", len(emails.data))\n",
    "print(\"Beginning of the first document\", emails.data[0][:500])"
   ]
  },
  {
   "cell_type": "code",
   "execution_count": 45,
   "metadata": {},
   "outputs": [
    {
     "name": "stdout",
     "output_type": "stream",
     "text": [
      "(594, 16257)\n"
     ]
    }
   ],
   "source": [
    "# For every document we count word ocurrence:\n",
    "\n",
    "from sklearn.feature_extraction.text import CountVectorizer\n",
    "emails_in_ML_format = CountVectorizer().fit_transform(emails.data)\n",
    "print(emails_in_ML_format.shape)"
   ]
  },
  {
   "cell_type": "code",
   "execution_count": 46,
   "metadata": {},
   "outputs": [
    {
     "data": {
      "text/plain": [
       "matrix([[1, 0, 0, ..., 0, 0, 0]])"
      ]
     },
     "execution_count": 46,
     "metadata": {},
     "output_type": "execute_result"
    }
   ],
   "source": [
    "# Now this is how the first document looks like:\n",
    "emails_in_ML_format[0].todense()"
   ]
  }
 ],
 "metadata": {
  "kernelspec": {
   "display_name": "Python 3",
   "language": "python",
   "name": "python3"
  },
  "language_info": {
   "codemirror_mode": {
    "name": "ipython",
    "version": 3
   },
   "file_extension": ".py",
   "mimetype": "text/x-python",
   "name": "python",
   "nbconvert_exporter": "python",
   "pygments_lexer": "ipython3",
   "version": "3.7.3"
  },
  "livereveal": {
   "start_slideshow_at": "selected"
  }
 },
 "nbformat": 4,
 "nbformat_minor": 4
}
